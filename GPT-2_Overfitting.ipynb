{
 "cells": [
  {
   "cell_type": "code",
   "execution_count": 1,
   "id": "0a4524a0-b7f4-4979-ac51-e305a62cb1c4",
   "metadata": {
    "scrolled": true
   },
   "outputs": [
    {
     "name": "stdout",
     "output_type": "stream",
     "text": [
      "Requirement already satisfied: transformers in c:\\users\\karim\\anaconda3\\envs\\my_env\\lib\\site-packages (4.39.3)\n",
      "Requirement already satisfied: datasets in c:\\users\\karim\\anaconda3\\envs\\my_env\\lib\\site-packages (2.19.0)\n",
      "Requirement already satisfied: torch in c:\\users\\karim\\anaconda3\\envs\\my_env\\lib\\site-packages (2.2.1)\n",
      "Requirement already satisfied: nltk in c:\\users\\karim\\anaconda3\\envs\\my_env\\lib\\site-packages (3.8.1)\n",
      "Requirement already satisfied: rouge_score in c:\\users\\karim\\anaconda3\\envs\\my_env\\lib\\site-packages (0.1.2)\n",
      "Requirement already satisfied: filelock in c:\\users\\karim\\anaconda3\\envs\\my_env\\lib\\site-packages (from transformers) (3.13.1)\n",
      "Requirement already satisfied: huggingface-hub<1.0,>=0.19.3 in c:\\users\\karim\\anaconda3\\envs\\my_env\\lib\\site-packages (from transformers) (0.22.2)\n",
      "Requirement already satisfied: numpy>=1.17 in c:\\users\\karim\\anaconda3\\envs\\my_env\\lib\\site-packages (from transformers) (1.24.0)\n",
      "Requirement already satisfied: packaging>=20.0 in c:\\users\\karim\\anaconda3\\envs\\my_env\\lib\\site-packages (from transformers) (23.2)\n",
      "Requirement already satisfied: pyyaml>=5.1 in c:\\users\\karim\\anaconda3\\envs\\my_env\\lib\\site-packages (from transformers) (6.0.1)\n",
      "Requirement already satisfied: regex!=2019.12.17 in c:\\users\\karim\\anaconda3\\envs\\my_env\\lib\\site-packages (from transformers) (2023.12.25)\n",
      "Requirement already satisfied: requests in c:\\users\\karim\\anaconda3\\envs\\my_env\\lib\\site-packages (from transformers) (2.31.0)\n",
      "Requirement already satisfied: tokenizers<0.19,>=0.14 in c:\\users\\karim\\anaconda3\\envs\\my_env\\lib\\site-packages (from transformers) (0.15.2)\n",
      "Requirement already satisfied: safetensors>=0.4.1 in c:\\users\\karim\\anaconda3\\envs\\my_env\\lib\\site-packages (from transformers) (0.4.2)\n",
      "Requirement already satisfied: tqdm>=4.27 in c:\\users\\karim\\anaconda3\\envs\\my_env\\lib\\site-packages (from transformers) (4.66.2)\n",
      "Requirement already satisfied: pyarrow>=12.0.0 in c:\\users\\karim\\anaconda3\\envs\\my_env\\lib\\site-packages (from datasets) (16.0.0)\n",
      "Requirement already satisfied: pyarrow-hotfix in c:\\users\\karim\\anaconda3\\envs\\my_env\\lib\\site-packages (from datasets) (0.6)\n",
      "Requirement already satisfied: dill<0.3.9,>=0.3.0 in c:\\users\\karim\\anaconda3\\envs\\my_env\\lib\\site-packages (from datasets) (0.3.8)\n",
      "Requirement already satisfied: pandas in c:\\users\\karim\\anaconda3\\envs\\my_env\\lib\\site-packages (from datasets) (2.2.1)\n",
      "Requirement already satisfied: xxhash in c:\\users\\karim\\anaconda3\\envs\\my_env\\lib\\site-packages (from datasets) (3.4.1)\n",
      "Requirement already satisfied: multiprocess in c:\\users\\karim\\anaconda3\\envs\\my_env\\lib\\site-packages (from datasets) (0.70.16)\n",
      "Requirement already satisfied: fsspec<=2024.3.1,>=2023.1.0 in c:\\users\\karim\\anaconda3\\envs\\my_env\\lib\\site-packages (from fsspec[http]<=2024.3.1,>=2023.1.0->datasets) (2024.3.1)\n",
      "Requirement already satisfied: aiohttp in c:\\users\\karim\\anaconda3\\envs\\my_env\\lib\\site-packages (from datasets) (3.9.5)\n",
      "Requirement already satisfied: typing-extensions>=4.8.0 in c:\\users\\karim\\anaconda3\\envs\\my_env\\lib\\site-packages (from torch) (4.9.0)\n",
      "Requirement already satisfied: sympy in c:\\users\\karim\\anaconda3\\envs\\my_env\\lib\\site-packages (from torch) (1.12)\n",
      "Requirement already satisfied: networkx in c:\\users\\karim\\anaconda3\\envs\\my_env\\lib\\site-packages (from torch) (3.1)\n",
      "Requirement already satisfied: jinja2 in c:\\users\\karim\\anaconda3\\envs\\my_env\\lib\\site-packages (from torch) (3.1.3)\n",
      "Requirement already satisfied: click in c:\\users\\karim\\anaconda3\\envs\\my_env\\lib\\site-packages (from nltk) (8.1.7)\n",
      "Requirement already satisfied: joblib in c:\\users\\karim\\anaconda3\\envs\\my_env\\lib\\site-packages (from nltk) (1.3.2)\n",
      "Requirement already satisfied: absl-py in c:\\users\\karim\\anaconda3\\envs\\my_env\\lib\\site-packages (from rouge_score) (2.1.0)\n",
      "Requirement already satisfied: six>=1.14.0 in c:\\users\\karim\\anaconda3\\envs\\my_env\\lib\\site-packages (from rouge_score) (1.16.0)\n",
      "Requirement already satisfied: aiosignal>=1.1.2 in c:\\users\\karim\\anaconda3\\envs\\my_env\\lib\\site-packages (from aiohttp->datasets) (1.3.1)\n",
      "Requirement already satisfied: attrs>=17.3.0 in c:\\users\\karim\\anaconda3\\envs\\my_env\\lib\\site-packages (from aiohttp->datasets) (23.1.0)\n",
      "Requirement already satisfied: frozenlist>=1.1.1 in c:\\users\\karim\\anaconda3\\envs\\my_env\\lib\\site-packages (from aiohttp->datasets) (1.4.1)\n",
      "Requirement already satisfied: multidict<7.0,>=4.5 in c:\\users\\karim\\anaconda3\\envs\\my_env\\lib\\site-packages (from aiohttp->datasets) (6.0.5)\n",
      "Requirement already satisfied: yarl<2.0,>=1.0 in c:\\users\\karim\\anaconda3\\envs\\my_env\\lib\\site-packages (from aiohttp->datasets) (1.9.4)\n",
      "Requirement already satisfied: async-timeout<5.0,>=4.0 in c:\\users\\karim\\anaconda3\\envs\\my_env\\lib\\site-packages (from aiohttp->datasets) (4.0.3)\n",
      "Requirement already satisfied: charset-normalizer<4,>=2 in c:\\users\\karim\\anaconda3\\envs\\my_env\\lib\\site-packages (from requests->transformers) (2.0.4)\n",
      "Requirement already satisfied: idna<4,>=2.5 in c:\\users\\karim\\anaconda3\\envs\\my_env\\lib\\site-packages (from requests->transformers) (3.4)\n",
      "Requirement already satisfied: urllib3<3,>=1.21.1 in c:\\users\\karim\\anaconda3\\envs\\my_env\\lib\\site-packages (from requests->transformers) (2.1.0)\n",
      "Requirement already satisfied: certifi>=2017.4.17 in c:\\users\\karim\\anaconda3\\envs\\my_env\\lib\\site-packages (from requests->transformers) (2023.11.17)\n",
      "Requirement already satisfied: colorama in c:\\users\\karim\\anaconda3\\envs\\my_env\\lib\\site-packages (from tqdm>=4.27->transformers) (0.4.6)\n",
      "Requirement already satisfied: MarkupSafe>=2.0 in c:\\users\\karim\\anaconda3\\envs\\my_env\\lib\\site-packages (from jinja2->torch) (2.1.3)\n",
      "Requirement already satisfied: python-dateutil>=2.8.2 in c:\\users\\karim\\anaconda3\\envs\\my_env\\lib\\site-packages (from pandas->datasets) (2.8.2)\n",
      "Requirement already satisfied: pytz>=2020.1 in c:\\users\\karim\\anaconda3\\envs\\my_env\\lib\\site-packages (from pandas->datasets) (2023.3.post1)\n",
      "Requirement already satisfied: tzdata>=2022.7 in c:\\users\\karim\\anaconda3\\envs\\my_env\\lib\\site-packages (from pandas->datasets) (2024.1)\n",
      "Requirement already satisfied: mpmath>=0.19 in c:\\users\\karim\\anaconda3\\envs\\my_env\\lib\\site-packages (from sympy->torch) (1.3.0)\n"
     ]
    }
   ],
   "source": [
    "!pip install transformers datasets torch nltk rouge_score"
   ]
  },
  {
   "cell_type": "markdown",
   "id": "7d94d9fb-7454-4b88-b34d-42af0c5a6238",
   "metadata": {},
   "source": [
    "# -------------------------------------------------------------------------------------------"
   ]
  },
  {
   "cell_type": "markdown",
   "id": "371d2a85-58f3-41db-9e75-d4546a5a837c",
   "metadata": {},
   "source": [
    "## Imports"
   ]
  },
  {
   "cell_type": "code",
   "execution_count": 2,
   "id": "2df8b19a-ee31-41d7-9eaf-e48fc4ce7b40",
   "metadata": {},
   "outputs": [
    {
     "name": "stderr",
     "output_type": "stream",
     "text": [
      "C:\\Users\\karim\\anaconda3\\envs\\my_env\\lib\\site-packages\\tqdm\\auto.py:21: TqdmWarning: IProgress not found. Please update jupyter and ipywidgets. See https://ipywidgets.readthedocs.io/en/stable/user_install.html\n",
      "  from .autonotebook import tqdm as notebook_tqdm\n"
     ]
    }
   ],
   "source": [
    "import numpy as np\n",
    "import pandas as pd\n",
    "import matplotlib.pyplot as plt\n",
    "\n",
    "from transformers import GPT2Tokenizer, GPT2LMHeadModel, GPT2Config\n",
    "from transformers import TextDataset, DataCollatorForLanguageModeling\n",
    "from transformers import Trainer, TrainingArguments\n",
    "\n",
    "from sklearn.model_selection import train_test_split\n",
    "\n",
    "from datasets import Dataset\n",
    "\n",
    "import torch\n",
    "\n",
    "import math\n",
    "\n",
    "import nltk\n",
    "from nltk.translate.bleu_score import sentence_bleu\n",
    "from rouge_score import rouge_scorer"
   ]
  },
  {
   "cell_type": "markdown",
   "id": "b0e498ec-57e9-4e22-a3f0-b4fc6859b126",
   "metadata": {},
   "source": [
    "# -------------------------------------------------------------------------------------------"
   ]
  },
  {
   "cell_type": "markdown",
   "id": "004db2fd-319d-4651-982a-31e1b2360bc5",
   "metadata": {},
   "source": [
    "## Dataset"
   ]
  },
  {
   "cell_type": "code",
   "execution_count": 3,
   "id": "1c4b0596-1a86-4126-8d0b-4288dd523330",
   "metadata": {},
   "outputs": [
    {
     "data": {
      "text/html": [
       "<div>\n",
       "<style scoped>\n",
       "    .dataframe tbody tr th:only-of-type {\n",
       "        vertical-align: middle;\n",
       "    }\n",
       "\n",
       "    .dataframe tbody tr th {\n",
       "        vertical-align: top;\n",
       "    }\n",
       "\n",
       "    .dataframe thead th {\n",
       "        text-align: right;\n",
       "    }\n",
       "</style>\n",
       "<table border=\"1\" class=\"dataframe\">\n",
       "  <thead>\n",
       "    <tr style=\"text-align: right;\">\n",
       "      <th></th>\n",
       "      <th>Name</th>\n",
       "      <th>Content</th>\n",
       "      <th>Collection</th>\n",
       "      <th>Year of Publication</th>\n",
       "    </tr>\n",
       "  </thead>\n",
       "  <tbody>\n",
       "    <tr>\n",
       "      <th>0</th>\n",
       "      <td>NaN</td>\n",
       "      <td>NaN</td>\n",
       "      <td>NaN</td>\n",
       "      <td>NaN</td>\n",
       "    </tr>\n",
       "    <tr>\n",
       "      <th>1</th>\n",
       "      <td>Stopping by Woods on a Snowy Evening</td>\n",
       "      <td>Whose woods these are I think I know.   \\nHis ...</td>\n",
       "      <td>New Hampshire</td>\n",
       "      <td>1923.0</td>\n",
       "    </tr>\n",
       "    <tr>\n",
       "      <th>2</th>\n",
       "      <td>Fire and Ice</td>\n",
       "      <td>Some say the world will end in fire,\\nSome say...</td>\n",
       "      <td>New Hampshire</td>\n",
       "      <td>1923.0</td>\n",
       "    </tr>\n",
       "    <tr>\n",
       "      <th>3</th>\n",
       "      <td>The Aim was Song</td>\n",
       "      <td>Before man came to blow it right\\nThe wind onc...</td>\n",
       "      <td>New Hampshire</td>\n",
       "      <td>1923.0</td>\n",
       "    </tr>\n",
       "    <tr>\n",
       "      <th>4</th>\n",
       "      <td>The Need of Being Versed in Country Things</td>\n",
       "      <td>The house had gone to bring again\\nTo the midn...</td>\n",
       "      <td>New Hampshire</td>\n",
       "      <td>1923.0</td>\n",
       "    </tr>\n",
       "  </tbody>\n",
       "</table>\n",
       "</div>"
      ],
      "text/plain": [
       "                                        Name   \\\n",
       "0                                         NaN   \n",
       "1        Stopping by Woods on a Snowy Evening   \n",
       "2                                Fire and Ice   \n",
       "3                            The Aim was Song   \n",
       "4  The Need of Being Versed in Country Things   \n",
       "\n",
       "                                             Content     Collection  \\\n",
       "0                                                NaN            NaN   \n",
       "1  Whose woods these are I think I know.   \\nHis ...  New Hampshire   \n",
       "2  Some say the world will end in fire,\\nSome say...  New Hampshire   \n",
       "3  Before man came to blow it right\\nThe wind onc...  New Hampshire   \n",
       "4  The house had gone to bring again\\nTo the midn...  New Hampshire   \n",
       "\n",
       "   Year of Publication  \n",
       "0                  NaN  \n",
       "1               1923.0  \n",
       "2               1923.0  \n",
       "3               1923.0  \n",
       "4               1923.0  "
      ]
     },
     "execution_count": 3,
     "metadata": {},
     "output_type": "execute_result"
    }
   ],
   "source": [
    "data = pd.read_csv('robert_frost_collection.csv')\n",
    "data.head()"
   ]
  },
  {
   "cell_type": "code",
   "execution_count": 4,
   "id": "37e4a2aa-d3ae-4b02-836f-15cfae6a32cd",
   "metadata": {},
   "outputs": [
    {
     "data": {
      "text/plain": [
       "(109, 4)"
      ]
     },
     "execution_count": 4,
     "metadata": {},
     "output_type": "execute_result"
    }
   ],
   "source": [
    "data.shape"
   ]
  },
  {
   "cell_type": "code",
   "execution_count": 5,
   "id": "2a064242-427e-4e9c-a13d-4c8be22c75c9",
   "metadata": {},
   "outputs": [
    {
     "data": {
      "text/plain": [
       "Name                   1\n",
       "Content                1\n",
       "Collection             2\n",
       "Year of Publication    2\n",
       "dtype: int64"
      ]
     },
     "execution_count": 5,
     "metadata": {},
     "output_type": "execute_result"
    }
   ],
   "source": [
    "data.isna().sum()"
   ]
  },
  {
   "cell_type": "code",
   "execution_count": 6,
   "id": "0612429b-78b6-4142-b2e4-019301a7db2c",
   "metadata": {},
   "outputs": [
    {
     "data": {
      "text/plain": [
       "Year of Publication\n",
       "1913.0     32\n",
       "1916.0     28\n",
       "1923.0     24\n",
       "1914.0     17\n",
       "1928.0      2\n",
       "19166.0     2\n",
       "1942.0      1\n",
       "1947.0      1\n",
       "Name: count, dtype: int64"
      ]
     },
     "execution_count": 6,
     "metadata": {},
     "output_type": "execute_result"
    }
   ],
   "source": [
    "data['Year of Publication'].value_counts()"
   ]
  },
  {
   "cell_type": "code",
   "execution_count": 7,
   "id": "275daa48-4945-40d7-be27-3eec9c9d3151",
   "metadata": {},
   "outputs": [
    {
     "data": {
      "text/plain": [
       "Collection\n",
       "A boy's Will          30\n",
       "Mountain Interval     26\n",
       "New Hampshire         24\n",
       "North of Boston       16\n",
       "Mountain Interval      4\n",
       "West-Running Book      2\n",
       "A Boy's Will           2\n",
       "North Of Boston        1\n",
       "A Witness tree         1\n",
       "An Afterward           1\n",
       "Name: count, dtype: int64"
      ]
     },
     "execution_count": 7,
     "metadata": {},
     "output_type": "execute_result"
    }
   ],
   "source": [
    "data['Collection'].value_counts()"
   ]
  },
  {
   "cell_type": "markdown",
   "id": "8a00b850-94dd-4766-a8fa-c735f551ff5d",
   "metadata": {},
   "source": [
    "# -------------------------------------------------------------------------------------------"
   ]
  },
  {
   "cell_type": "markdown",
   "id": "4ab53b7f-7d90-4a51-b97f-76d64274c2d1",
   "metadata": {},
   "source": [
    "## Pre-processing"
   ]
  },
  {
   "cell_type": "code",
   "execution_count": 8,
   "id": "f22429e1-9121-4742-ab5e-81b1d757dfbe",
   "metadata": {},
   "outputs": [],
   "source": [
    "data.dropna(inplace=True)"
   ]
  },
  {
   "cell_type": "code",
   "execution_count": 9,
   "id": "81a069f7-400a-4b9b-881b-ed312dad23cf",
   "metadata": {},
   "outputs": [
    {
     "data": {
      "text/plain": [
       "(107, 4)"
      ]
     },
     "execution_count": 9,
     "metadata": {},
     "output_type": "execute_result"
    }
   ],
   "source": [
    "data.shape"
   ]
  },
  {
   "cell_type": "code",
   "execution_count": 10,
   "id": "c3f0630d-3c89-4130-acb3-c0b47d0d739c",
   "metadata": {},
   "outputs": [
    {
     "data": {
      "text/plain": [
       "Index(['Name ', 'Content', 'Collection', 'Year of Publication'], dtype='object')"
      ]
     },
     "execution_count": 10,
     "metadata": {},
     "output_type": "execute_result"
    }
   ],
   "source": [
    "data.columns"
   ]
  },
  {
   "cell_type": "code",
   "execution_count": 11,
   "id": "4256ab2c-5423-4047-bf9b-daa993ee452d",
   "metadata": {},
   "outputs": [],
   "source": [
    "data.drop(data[['Name ', 'Collection', 'Year of Publication']], axis=1, inplace=True)"
   ]
  },
  {
   "cell_type": "code",
   "execution_count": 12,
   "id": "c2c30c3f-597e-4526-88de-3c5741668d1d",
   "metadata": {},
   "outputs": [
    {
     "data": {
      "text/html": [
       "<div>\n",
       "<style scoped>\n",
       "    .dataframe tbody tr th:only-of-type {\n",
       "        vertical-align: middle;\n",
       "    }\n",
       "\n",
       "    .dataframe tbody tr th {\n",
       "        vertical-align: top;\n",
       "    }\n",
       "\n",
       "    .dataframe thead th {\n",
       "        text-align: right;\n",
       "    }\n",
       "</style>\n",
       "<table border=\"1\" class=\"dataframe\">\n",
       "  <thead>\n",
       "    <tr style=\"text-align: right;\">\n",
       "      <th></th>\n",
       "      <th>Content</th>\n",
       "    </tr>\n",
       "  </thead>\n",
       "  <tbody>\n",
       "    <tr>\n",
       "      <th>1</th>\n",
       "      <td>Whose woods these are I think I know.   \\nHis ...</td>\n",
       "    </tr>\n",
       "    <tr>\n",
       "      <th>2</th>\n",
       "      <td>Some say the world will end in fire,\\nSome say...</td>\n",
       "    </tr>\n",
       "    <tr>\n",
       "      <th>3</th>\n",
       "      <td>Before man came to blow it right\\nThe wind onc...</td>\n",
       "    </tr>\n",
       "    <tr>\n",
       "      <th>4</th>\n",
       "      <td>The house had gone to bring again\\nTo the midn...</td>\n",
       "    </tr>\n",
       "    <tr>\n",
       "      <th>5</th>\n",
       "      <td>It was long I lay\\nAwake that night\\nWishing t...</td>\n",
       "    </tr>\n",
       "  </tbody>\n",
       "</table>\n",
       "</div>"
      ],
      "text/plain": [
       "                                             Content\n",
       "1  Whose woods these are I think I know.   \\nHis ...\n",
       "2  Some say the world will end in fire,\\nSome say...\n",
       "3  Before man came to blow it right\\nThe wind onc...\n",
       "4  The house had gone to bring again\\nTo the midn...\n",
       "5  It was long I lay\\nAwake that night\\nWishing t..."
      ]
     },
     "execution_count": 12,
     "metadata": {},
     "output_type": "execute_result"
    }
   ],
   "source": [
    "data.head()"
   ]
  },
  {
   "cell_type": "markdown",
   "id": "ebeb83c4-9e65-41d8-9826-9344afa61e90",
   "metadata": {},
   "source": [
    "#### Finding the number of words in the longest poem"
   ]
  },
  {
   "cell_type": "code",
   "execution_count": 13,
   "id": "3fdc4436-069d-4f35-bd6d-33ac494d3e0a",
   "metadata": {},
   "outputs": [
    {
     "data": {
      "text/html": [
       "<div>\n",
       "<style scoped>\n",
       "    .dataframe tbody tr th:only-of-type {\n",
       "        vertical-align: middle;\n",
       "    }\n",
       "\n",
       "    .dataframe tbody tr th {\n",
       "        vertical-align: top;\n",
       "    }\n",
       "\n",
       "    .dataframe thead th {\n",
       "        text-align: right;\n",
       "    }\n",
       "</style>\n",
       "<table border=\"1\" class=\"dataframe\">\n",
       "  <thead>\n",
       "    <tr style=\"text-align: right;\">\n",
       "      <th></th>\n",
       "      <th>Content</th>\n",
       "    </tr>\n",
       "  </thead>\n",
       "  <tbody>\n",
       "    <tr>\n",
       "      <th>0</th>\n",
       "      <td>Whose woods these are I think I know.   \\nHis ...</td>\n",
       "    </tr>\n",
       "    <tr>\n",
       "      <th>1</th>\n",
       "      <td>Some say the world will end in fire,\\nSome say...</td>\n",
       "    </tr>\n",
       "    <tr>\n",
       "      <th>2</th>\n",
       "      <td>Before man came to blow it right\\nThe wind onc...</td>\n",
       "    </tr>\n",
       "    <tr>\n",
       "      <th>3</th>\n",
       "      <td>The house had gone to bring again\\nTo the midn...</td>\n",
       "    </tr>\n",
       "    <tr>\n",
       "      <th>4</th>\n",
       "      <td>It was long I lay\\nAwake that night\\nWishing t...</td>\n",
       "    </tr>\n",
       "  </tbody>\n",
       "</table>\n",
       "</div>"
      ],
      "text/plain": [
       "                                             Content\n",
       "0  Whose woods these are I think I know.   \\nHis ...\n",
       "1  Some say the world will end in fire,\\nSome say...\n",
       "2  Before man came to blow it right\\nThe wind onc...\n",
       "3  The house had gone to bring again\\nTo the midn...\n",
       "4  It was long I lay\\nAwake that night\\nWishing t..."
      ]
     },
     "execution_count": 13,
     "metadata": {},
     "output_type": "execute_result"
    }
   ],
   "source": [
    "data = data.reset_index(drop=True)\n",
    "data.head()"
   ]
  },
  {
   "cell_type": "code",
   "execution_count": 14,
   "id": "9a62a11b-6574-4d30-b940-ba93b2605c6b",
   "metadata": {},
   "outputs": [
    {
     "name": "stdout",
     "output_type": "stream",
     "text": [
      "108\n",
      "113\n",
      "189\n",
      "289\n",
      "504\n",
      "1009\n",
      "1399\n",
      "1486\n",
      "1508\n",
      "1773\n",
      "1892\n",
      "1934\n",
      "3191\n"
     ]
    }
   ],
   "source": [
    "x = 0\n",
    "\n",
    "for i in range(107):\n",
    "    z = len(data['Content'][i].split())\n",
    "    if z >= x:\n",
    "        x = z\n",
    "        print(z)"
   ]
  },
  {
   "cell_type": "markdown",
   "id": "e1c397f2-fc98-4e09-8014-6914d62fea85",
   "metadata": {},
   "source": [
    "#### Finding the number of words in the shortest poem"
   ]
  },
  {
   "cell_type": "code",
   "execution_count": 15,
   "id": "f2fc23fd-4308-4158-9c5b-50b5a0cd0aff",
   "metadata": {},
   "outputs": [
    {
     "name": "stdout",
     "output_type": "stream",
     "text": [
      "108\n",
      "51\n",
      "40\n",
      "37\n",
      "34\n",
      "25\n"
     ]
    }
   ],
   "source": [
    "x = 100000\n",
    "\n",
    "for i in range(107):\n",
    "    z = len(data['Content'][i].split())\n",
    "    if z <= x:\n",
    "        x = z\n",
    "        print(z)"
   ]
  },
  {
   "cell_type": "markdown",
   "id": "4fff6468-f3be-4004-8e5c-9b7e69489de2",
   "metadata": {},
   "source": [
    "#### Finding the average number of words in the dataset"
   ]
  },
  {
   "cell_type": "code",
   "execution_count": 16,
   "id": "b106931f-fdb0-4ffe-a3c3-a93bff68fc40",
   "metadata": {},
   "outputs": [
    {
     "name": "stdout",
     "output_type": "stream",
     "text": [
      "392.3738317757009\n"
     ]
    }
   ],
   "source": [
    "x = 0\n",
    "\n",
    "for i in range(107):\n",
    "    z = len(data['Content'][i].split())\n",
    "    x += z\n",
    "        \n",
    "print(x/107)"
   ]
  },
  {
   "cell_type": "markdown",
   "id": "add64dae-5935-4e4f-84a0-0b490596d4d3",
   "metadata": {},
   "source": [
    "#### Train-Test Split"
   ]
  },
  {
   "cell_type": "code",
   "execution_count": 17,
   "id": "32eee074-8616-4cc8-a421-db50a0f8f53a",
   "metadata": {},
   "outputs": [],
   "source": [
    "train_set, test_set = train_test_split(data, test_size=0.25, random_state=42)"
   ]
  },
  {
   "cell_type": "code",
   "execution_count": 18,
   "id": "e49a4dd5-e166-4267-9e0e-0334e7709066",
   "metadata": {},
   "outputs": [],
   "source": [
    "train_set = Dataset.from_pandas(train_set)\n",
    "test_set = Dataset.from_pandas(test_set)"
   ]
  },
  {
   "cell_type": "markdown",
   "id": "24447322-07c7-4882-8e51-1e17973f3463",
   "metadata": {},
   "source": [
    "# -------------------------------------------------------------------------------------------"
   ]
  },
  {
   "cell_type": "markdown",
   "id": "3965ce22-2223-4cc0-ba9e-e15a80da991c",
   "metadata": {},
   "source": [
    "## GPT-2 Small Fine Tuning (ZERO Layers Frozen)"
   ]
  },
  {
   "cell_type": "code",
   "execution_count": 19,
   "id": "801ecfe0-4d4e-4ac6-af82-5ee51fda6e3c",
   "metadata": {},
   "outputs": [
    {
     "data": {
      "text/plain": [
       "GPT2LMHeadModel(\n",
       "  (transformer): GPT2Model(\n",
       "    (wte): Embedding(50257, 768)\n",
       "    (wpe): Embedding(1024, 768)\n",
       "    (drop): Dropout(p=0.1, inplace=False)\n",
       "    (h): ModuleList(\n",
       "      (0-11): 12 x GPT2Block(\n",
       "        (ln_1): LayerNorm((768,), eps=1e-05, elementwise_affine=True)\n",
       "        (attn): GPT2Attention(\n",
       "          (c_attn): Conv1D()\n",
       "          (c_proj): Conv1D()\n",
       "          (attn_dropout): Dropout(p=0.1, inplace=False)\n",
       "          (resid_dropout): Dropout(p=0.1, inplace=False)\n",
       "        )\n",
       "        (ln_2): LayerNorm((768,), eps=1e-05, elementwise_affine=True)\n",
       "        (mlp): GPT2MLP(\n",
       "          (c_fc): Conv1D()\n",
       "          (c_proj): Conv1D()\n",
       "          (act): NewGELUActivation()\n",
       "          (dropout): Dropout(p=0.1, inplace=False)\n",
       "        )\n",
       "      )\n",
       "    )\n",
       "    (ln_f): LayerNorm((768,), eps=1e-05, elementwise_affine=True)\n",
       "  )\n",
       "  (lm_head): Linear(in_features=768, out_features=50257, bias=False)\n",
       ")"
      ]
     },
     "execution_count": 19,
     "metadata": {},
     "output_type": "execute_result"
    }
   ],
   "source": [
    "output_dir = \"GPT2Small\"\n",
    "\n",
    "tokenizer = GPT2Tokenizer.from_pretrained('gpt2')\n",
    "model = GPT2LMHeadModel.from_pretrained('gpt2')\n",
    "\n",
    "tokenizer.pad_token = tokenizer.eos_token\n",
    "assert tokenizer.pad_token == tokenizer.eos_token\n",
    "\n",
    "data_collator = DataCollatorForLanguageModeling(tokenizer=tokenizer, mlm=False)\n",
    "\n",
    "model.to('cuda:0')"
   ]
  },
  {
   "cell_type": "markdown",
   "id": "5cfae3e9-c967-44ae-ad14-bfd4c6078d37",
   "metadata": {},
   "source": [
    "#### GPT-2 Small Number of Layers"
   ]
  },
  {
   "cell_type": "code",
   "execution_count": 20,
   "id": "b48134a1-15f0-4de3-9747-4d674edc9058",
   "metadata": {},
   "outputs": [
    {
     "data": {
      "text/plain": [
       "12"
      ]
     },
     "execution_count": 20,
     "metadata": {},
     "output_type": "execute_result"
    }
   ],
   "source": [
    "model.config.n_layer"
   ]
  },
  {
   "cell_type": "code",
   "execution_count": 21,
   "id": "1b8bfb91-2cef-471a-9403-7a138428cc1d",
   "metadata": {},
   "outputs": [
    {
     "name": "stderr",
     "output_type": "stream",
     "text": [
      "Map: 100%|█████████████████████████████████████████████████████████████████████| 80/80 [00:00<00:00, 116.62 examples/s]\n",
      "Map: 100%|██████████████████████████████████████████████████████████████████████| 27/27 [00:00<00:00, 83.58 examples/s]\n"
     ]
    }
   ],
   "source": [
    "def tokenize_data(data):\n",
    "    return tokenizer(data['Content'], truncation=True, max_length=400)\n",
    "\n",
    "tokenized_train_set = train_set.map(tokenize_data, batched=True)\n",
    "tokenized_test_set = test_set.map(tokenize_data, batched=True)"
   ]
  },
  {
   "cell_type": "code",
   "execution_count": 22,
   "id": "7e8c0db2-4344-46ce-bb76-390e62d37f61",
   "metadata": {},
   "outputs": [],
   "source": [
    "def set_args(epochs, lr, adam_1, adam_2):\n",
    "    training_args = TrainingArguments(output_dir=output_dir, overwrite_output_dir=True,\\\n",
    "                num_train_epochs=epochs, per_device_train_batch_size=4, save_strategy=\"epoch\",\\\n",
    "                save_total_limit=2, prediction_loss_only=True, logging_steps=100, learning_rate=lr,\n",
    "                adam_beta1=adam_1, adam_beta2=adam_2)\n",
    "\n",
    "    return training_args"
   ]
  },
  {
   "cell_type": "code",
   "execution_count": 23,
   "id": "625c6c21-f9a9-4ae4-91e3-c8c8bba2ed98",
   "metadata": {},
   "outputs": [
    {
     "name": "stderr",
     "output_type": "stream",
     "text": [
      "C:\\Users\\karim\\anaconda3\\envs\\my_env\\lib\\site-packages\\accelerate\\accelerator.py:436: FutureWarning: Passing the following arguments to `Accelerator` is deprecated and will be removed in version 1.0 of Accelerate: dict_keys(['dispatch_batches', 'split_batches', 'even_batches', 'use_seedable_sampler']). Please pass an `accelerate.DataLoaderConfiguration` instead: \n",
      "dataloader_config = DataLoaderConfiguration(dispatch_batches=None, split_batches=False, even_batches=True, use_seedable_sampler=True)\n",
      "  warnings.warn(\n"
     ]
    },
    {
     "data": {
      "text/html": [
       "\n",
       "    <div>\n",
       "      \n",
       "      <progress value='1000' max='1000' style='width:300px; height:20px; vertical-align: middle;'></progress>\n",
       "      [1000/1000 42:39, Epoch 50/50]\n",
       "    </div>\n",
       "    <table border=\"1\" class=\"dataframe\">\n",
       "  <thead>\n",
       " <tr style=\"text-align: left;\">\n",
       "      <th>Step</th>\n",
       "      <th>Training Loss</th>\n",
       "    </tr>\n",
       "  </thead>\n",
       "  <tbody>\n",
       "    <tr>\n",
       "      <td>100</td>\n",
       "      <td>3.032700</td>\n",
       "    </tr>\n",
       "    <tr>\n",
       "      <td>200</td>\n",
       "      <td>0.487700</td>\n",
       "    </tr>\n",
       "    <tr>\n",
       "      <td>300</td>\n",
       "      <td>0.172700</td>\n",
       "    </tr>\n",
       "    <tr>\n",
       "      <td>400</td>\n",
       "      <td>0.080200</td>\n",
       "    </tr>\n",
       "    <tr>\n",
       "      <td>500</td>\n",
       "      <td>0.040500</td>\n",
       "    </tr>\n",
       "    <tr>\n",
       "      <td>600</td>\n",
       "      <td>0.023300</td>\n",
       "    </tr>\n",
       "    <tr>\n",
       "      <td>700</td>\n",
       "      <td>0.022200</td>\n",
       "    </tr>\n",
       "    <tr>\n",
       "      <td>800</td>\n",
       "      <td>0.014200</td>\n",
       "    </tr>\n",
       "    <tr>\n",
       "      <td>900</td>\n",
       "      <td>0.011400</td>\n",
       "    </tr>\n",
       "    <tr>\n",
       "      <td>1000</td>\n",
       "      <td>0.009400</td>\n",
       "    </tr>\n",
       "  </tbody>\n",
       "</table><p>"
      ],
      "text/plain": [
       "<IPython.core.display.HTML object>"
      ]
     },
     "metadata": {},
     "output_type": "display_data"
    },
    {
     "data": {
      "text/plain": [
       "('GPT2Small\\\\tokenizer_config.json',\n",
       " 'GPT2Small\\\\special_tokens_map.json',\n",
       " 'GPT2Small\\\\vocab.json',\n",
       " 'GPT2Small\\\\merges.txt',\n",
       " 'GPT2Small\\\\added_tokens.json')"
      ]
     },
     "execution_count": 23,
     "metadata": {},
     "output_type": "execute_result"
    }
   ],
   "source": [
    "trainer = Trainer(model=model, args=set_args(50, 0.001, 0.9, 0.999), train_dataset=tokenized_train_set, data_collator=data_collator)\n",
    "\n",
    "trainer.train()\n",
    "\n",
    "model.save_pretrained(output_dir)\n",
    "tokenizer.save_pretrained(output_dir)"
   ]
  },
  {
   "cell_type": "markdown",
   "id": "1fc91e1a-c9cf-4933-ad86-765c2645fec1",
   "metadata": {},
   "source": [
    "#### Training Learning Curve"
   ]
  },
  {
   "cell_type": "code",
   "execution_count": 24,
   "id": "a727dd4c-3fdc-426d-9584-cde1ed5f53ce",
   "metadata": {},
   "outputs": [
    {
     "data": {
      "image/png": "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",
      "text/plain": [
       "<Figure size 1100x500 with 1 Axes>"
      ]
     },
     "metadata": {},
     "output_type": "display_data"
    }
   ],
   "source": [
    "logs = trainer.state.log_history\n",
    "\n",
    "steps = [log[\"step\"] for log in logs if \"loss\" in log]\n",
    "losses = [log[\"loss\"] for log in logs if \"loss\" in log]\n",
    "\n",
    "plt.figure(figsize=(11, 5))\n",
    "\n",
    "plt.plot(steps, losses, label=\"Training Loss\")\n",
    "plt.xlabel(\"Steps\")\n",
    "plt.ylabel(\"Loss\")\n",
    "plt.title(\"Training Loss per Steps\")\n",
    "plt.legend()\n",
    "plt.show()"
   ]
  },
  {
   "cell_type": "markdown",
   "id": "299ffb51-d1ee-4d79-a4e4-89ff941e04c4",
   "metadata": {},
   "source": [
    "## GPT-2 Small Fine Tunning (Last TWO Layers unfrozen)"
   ]
  },
  {
   "cell_type": "code",
   "execution_count": 25,
   "id": "4e2693c1-23fa-4264-9a9c-086d31275f15",
   "metadata": {},
   "outputs": [
    {
     "data": {
      "text/plain": [
       "GPT2LMHeadModel(\n",
       "  (transformer): GPT2Model(\n",
       "    (wte): Embedding(50257, 768)\n",
       "    (wpe): Embedding(1024, 768)\n",
       "    (drop): Dropout(p=0.1, inplace=False)\n",
       "    (h): ModuleList(\n",
       "      (0-11): 12 x GPT2Block(\n",
       "        (ln_1): LayerNorm((768,), eps=1e-05, elementwise_affine=True)\n",
       "        (attn): GPT2Attention(\n",
       "          (c_attn): Conv1D()\n",
       "          (c_proj): Conv1D()\n",
       "          (attn_dropout): Dropout(p=0.1, inplace=False)\n",
       "          (resid_dropout): Dropout(p=0.1, inplace=False)\n",
       "        )\n",
       "        (ln_2): LayerNorm((768,), eps=1e-05, elementwise_affine=True)\n",
       "        (mlp): GPT2MLP(\n",
       "          (c_fc): Conv1D()\n",
       "          (c_proj): Conv1D()\n",
       "          (act): NewGELUActivation()\n",
       "          (dropout): Dropout(p=0.1, inplace=False)\n",
       "        )\n",
       "      )\n",
       "    )\n",
       "    (ln_f): LayerNorm((768,), eps=1e-05, elementwise_affine=True)\n",
       "  )\n",
       "  (lm_head): Linear(in_features=768, out_features=50257, bias=False)\n",
       ")"
      ]
     },
     "execution_count": 25,
     "metadata": {},
     "output_type": "execute_result"
    }
   ],
   "source": [
    "output_dir = \"GPT2Small_Frozen\"\n",
    "\n",
    "tokenizer_F = GPT2Tokenizer.from_pretrained(\"gpt2\")\n",
    "model_F = GPT2LMHeadModel.from_pretrained(\"gpt2\")\n",
    "\n",
    "tokenizer_F.pad_token = tokenizer_F.eos_token\n",
    "assert tokenizer_F.pad_token == tokenizer_F.eos_token\n",
    "\n",
    "data_collator_F = DataCollatorForLanguageModeling(tokenizer=tokenizer_F, mlm=False)\n",
    "\n",
    "model_F.to('cuda:0')"
   ]
  },
  {
   "cell_type": "code",
   "execution_count": 26,
   "id": "ca5d976c-7eb4-4c6b-9248-e3326dc2b4fb",
   "metadata": {},
   "outputs": [
    {
     "name": "stderr",
     "output_type": "stream",
     "text": [
      "Map: 100%|█████████████████████████████████████████████████████████████████████| 80/80 [00:00<00:00, 123.08 examples/s]\n",
      "Map: 100%|██████████████████████████████████████████████████████████████████████| 27/27 [00:00<00:00, 82.82 examples/s]\n"
     ]
    }
   ],
   "source": [
    "def tokenize_data(data):\n",
    "    return tokenizer_F(data['Content'], truncation=True, max_length=400)\n",
    "\n",
    "tokenized_train_set = train_set.map(tokenize_data, batched=True)\n",
    "tokenized_test_set = test_set.map(tokenize_data, batched=True)"
   ]
  },
  {
   "cell_type": "markdown",
   "id": "3ab67df6-0f34-4cbd-a30d-359bbd004c99",
   "metadata": {},
   "source": [
    "#### Unfreezing the last 2 layers"
   ]
  },
  {
   "cell_type": "code",
   "execution_count": 27,
   "id": "078e91b8-5245-4228-b42c-e600e3e00820",
   "metadata": {},
   "outputs": [],
   "source": [
    "for param in model_F.parameters():\n",
    "    param.requires_grad = False\n",
    "    \n",
    "for i in range(-2, 0):\n",
    "    for param in model_F.transformer.h[i].parameters():\n",
    "        param.requires_grad = True"
   ]
  },
  {
   "cell_type": "code",
   "execution_count": 28,
   "id": "102e259a-d60d-47c0-a380-97680bceb709",
   "metadata": {},
   "outputs": [
    {
     "name": "stderr",
     "output_type": "stream",
     "text": [
      "C:\\Users\\karim\\anaconda3\\envs\\my_env\\lib\\site-packages\\accelerate\\accelerator.py:436: FutureWarning: Passing the following arguments to `Accelerator` is deprecated and will be removed in version 1.0 of Accelerate: dict_keys(['dispatch_batches', 'split_batches', 'even_batches', 'use_seedable_sampler']). Please pass an `accelerate.DataLoaderConfiguration` instead: \n",
      "dataloader_config = DataLoaderConfiguration(dispatch_batches=None, split_batches=False, even_batches=True, use_seedable_sampler=True)\n",
      "  warnings.warn(\n"
     ]
    },
    {
     "data": {
      "text/html": [
       "\n",
       "    <div>\n",
       "      \n",
       "      <progress value='1000' max='1000' style='width:300px; height:20px; vertical-align: middle;'></progress>\n",
       "      [1000/1000 14:04, Epoch 50/50]\n",
       "    </div>\n",
       "    <table border=\"1\" class=\"dataframe\">\n",
       "  <thead>\n",
       " <tr style=\"text-align: left;\">\n",
       "      <th>Step</th>\n",
       "      <th>Training Loss</th>\n",
       "    </tr>\n",
       "  </thead>\n",
       "  <tbody>\n",
       "    <tr>\n",
       "      <td>100</td>\n",
       "      <td>3.578400</td>\n",
       "    </tr>\n",
       "    <tr>\n",
       "      <td>200</td>\n",
       "      <td>1.591100</td>\n",
       "    </tr>\n",
       "    <tr>\n",
       "      <td>300</td>\n",
       "      <td>0.716700</td>\n",
       "    </tr>\n",
       "    <tr>\n",
       "      <td>400</td>\n",
       "      <td>0.402500</td>\n",
       "    </tr>\n",
       "    <tr>\n",
       "      <td>500</td>\n",
       "      <td>0.262600</td>\n",
       "    </tr>\n",
       "    <tr>\n",
       "      <td>600</td>\n",
       "      <td>0.194300</td>\n",
       "    </tr>\n",
       "    <tr>\n",
       "      <td>700</td>\n",
       "      <td>0.154200</td>\n",
       "    </tr>\n",
       "    <tr>\n",
       "      <td>800</td>\n",
       "      <td>0.130300</td>\n",
       "    </tr>\n",
       "    <tr>\n",
       "      <td>900</td>\n",
       "      <td>0.113800</td>\n",
       "    </tr>\n",
       "    <tr>\n",
       "      <td>1000</td>\n",
       "      <td>0.104700</td>\n",
       "    </tr>\n",
       "  </tbody>\n",
       "</table><p>"
      ],
      "text/plain": [
       "<IPython.core.display.HTML object>"
      ]
     },
     "metadata": {},
     "output_type": "display_data"
    },
    {
     "data": {
      "text/plain": [
       "('GPT2Small_Frozen\\\\tokenizer_config.json',\n",
       " 'GPT2Small_Frozen\\\\special_tokens_map.json',\n",
       " 'GPT2Small_Frozen\\\\vocab.json',\n",
       " 'GPT2Small_Frozen\\\\merges.txt',\n",
       " 'GPT2Small_Frozen\\\\added_tokens.json')"
      ]
     },
     "execution_count": 28,
     "metadata": {},
     "output_type": "execute_result"
    }
   ],
   "source": [
    "trainer_F = Trainer(model=model_F, args=set_args(50, 0.001, 0.9, 0.999), train_dataset=tokenized_train_set, data_collator=data_collator_F)\n",
    "\n",
    "trainer_F.train()\n",
    "\n",
    "model_F.save_pretrained(output_dir)\n",
    "tokenizer_F.save_pretrained(output_dir)"
   ]
  },
  {
   "cell_type": "markdown",
   "id": "7bbc7ff0-f41d-4f25-994a-098409a785bb",
   "metadata": {},
   "source": [
    "#### Training Learning Curve"
   ]
  },
  {
   "cell_type": "code",
   "execution_count": 29,
   "id": "39c0e8af-4d30-4598-8f56-c9144075b24a",
   "metadata": {},
   "outputs": [
    {
     "data": {
      "image/png": "iVBORw0KGgoAAAANSUhEUgAAA5sAAAHWCAYAAAD5Mp2LAAAAOXRFWHRTb2Z0d2FyZQBNYXRwbG90bGliIHZlcnNpb24zLjguMywgaHR0cHM6Ly9tYXRwbG90bGliLm9yZy/H5lhTAAAACXBIWXMAAA9hAAAPYQGoP6dpAABlRUlEQVR4nO3dd3wUdf7H8ffuJtn0BqQQQqjSew2coCeKiBwINgQpKjY49fQs3P3kLKdYzjs7KN4RFbCggB4nIqJY6F1AwCCEACEJLb3vzu+PhJWQBELYZFJez8djHsl+5zsznwmj5M13Zr4WwzAMAQAAAADgRlazCwAAAAAA1D+ETQAAAACA2xE2AQAAAABuR9gEAAAAALgdYRMAAAAA4HaETQAAAACA2xE2AQAAAABuR9gEAAAAALgdYRMAAAAA4HaETQCAqSZNmqQWLVpUadsnnnhCFovFvQUBAAC3IGwCAMplsVgqtaxatcrsUk0xadIk+fv7m11GnVBQUKBXXnlFPXr0UGBgoIKDg9WpUyfdeeed2rNnj6vfmjVr9MQTTygtLc28YgEAbuNhdgEAgNrp/fffL/X5vffe04oVK8q0d+jQ4aKOM2fOHDmdzipt+3//93967LHHLur4qH5jxozRsmXLNHbsWE2ZMkWFhYXas2ePli5dqgEDBqh9+/aSisPmk08+qUmTJik4ONjcogEAF42wCQAo1/jx40t9XrdunVasWFGm/Ww5OTny9fWt9HE8PT2rVJ8keXh4yMODv8rMVlRUJKfTKS8vrzLrNm7cqKVLl+qZZ57RX/7yl1LrXn/9dUYxAaAe4zZaAECVXXbZZercubM2b96sQYMGydfX1xUoPvvsMw0fPlxNmzaV3W5X69at9fTTT8vhcJTax9nPbCYkJMhisegf//iH3n77bbVu3Vp2u119+vTRxo0bS21b3jObFotF06ZN05IlS9S5c2fZ7XZ16tRJX375ZZn6V61apd69e8vb21utW7fWW2+95fbnQBcuXKhevXrJx8dHjRs31vjx43XkyJFSfZKTkzV58mQ1a9ZMdrtdkZGRGjlypBISElx9Nm3apKFDh6px48by8fFRy5Ytddttt533+C1atNC1116rr776St27d5e3t7c6duyoRYsWlemblpamBx54QNHR0bLb7WrTpo2ef/75UiPPZ/75vPzyy64/n59//rnc4//666+SpIEDB5ZZZ7PZ1KhRI0nFf5YPP/ywJKlly5au27TP/BnMmzfP9bMMDQ3VzTffrEOHDpXa55nX5IABA1w/q9mzZ5c5/muvvaZOnTrJ19dXISEh6t27txYsWHCenygAoLL452AAwEU5ceKEhg0bpptvvlnjx49XeHi4JCkuLk7+/v568MEH5e/vr2+++UYzZsxQRkaGXnzxxfPud8GCBcrMzNRdd90li8WiF154QaNHj9b+/fvPOxr6448/atGiRbr33nsVEBCgV199VWPGjFFiYqIr3GzdulVXX321IiMj9eSTT8rhcOipp55SkyZNLv6HUiIuLk6TJ09Wnz59NHPmTKWkpOiVV17R6tWrtXXrVtetomPGjNGuXbv0xz/+US1atFBqaqpWrFihxMRE1+errrpKTZo00WOPPabg4GAlJCSUGxjLEx8fr5tuukl33323Jk6cqLlz5+qGG27Ql19+qSuvvFJS8Yj04MGDdeTIEd11111q3ry51qxZo+nTp+vo0aN6+eWXS+1z7ty5ysvL05133im73a7Q0NByjx0TEyNJmj9/vgYOHFjhSPTo0aP1yy+/6IMPPtC//vUvNW7cWJJcfx7PPPOMHn/8cd1444264447dOzYMb322msaNGhQqZ+lJJ06dUrXXHONbrzxRo0dO1Yff/yx7rnnHnl5ebkC+pw5c3Tffffp+uuv1/3336+8vDz99NNPWr9+vW655ZZK/VwBAOdhAABQCVOnTjXO/mtj8ODBhiRj9uzZZfrn5OSUabvrrrsMX19fIy8vz9U2ceJEIyYmxvX5wIEDhiSjUaNGxsmTJ13tn332mSHJ+O9//+tq+9vf/lamJkmGl5eXsW/fPlfb9u3bDUnGa6+95mobMWKE4evraxw5csTVFh8fb3h4eJTZZ3kmTpxo+Pn5Vbi+oKDACAsLMzp37mzk5ua62pcuXWpIMmbMmGEYhmGcOnXKkGS8+OKLFe5r8eLFhiRj48aN563rbDExMYYk49NPP3W1paenG5GRkUaPHj1cbU8//bTh5+dn/PLLL6W2f+yxxwybzWYkJiYahvHbn09gYKCRmpp63uM7nU7XdRIeHm6MHTvWeOONN4yDBw+W6fviiy8akowDBw6Uak9ISDBsNpvxzDPPlGrfsWOH4eHhUar99LFeeuklV1t+fr7RvXt3IywszCgoKDAMwzBGjhxpdOrU6bz1AwCqjttoAQAXxW63a/LkyWXafXx8XN9nZmbq+PHjuvTSS5WTk1PqDaQVuemmmxQSEuL6fOmll0qS9u/ff95thwwZotatW7s+d+3aVYGBga5tHQ6Hvv76a40aNUpNmzZ19WvTpo2GDRt23v1XxqZNm5Samqp7771X3t7ervbhw4erffv2+t///iep+Ofk5eWlVatW6dSpU+Xu6/So3dKlS1VYWHjBtTRt2lTXXXed63NgYKAmTJigrVu3Kjk5WVLx7b6XXnqpQkJCdPz4cdcyZMgQORwOff/996X2OWbMmEqNAlssFi1fvlx///vfFRISog8++EBTp05VTEyMbrrppko9s7lo0SI5nU7deOONpWqLiIhQ27Zt9e2335bq7+Hhobvuusv12cvLS3fddZdSU1O1efNmScU/08OHD5e5NRsA4D6ETQDARYmKiir3xTC7du3Sddddp6CgIAUGBqpJkyaulwulp6efd7/Nmzcv9fl08KwokJ1r29Pbn942NTVVubm5atOmTZl+5bVVxcGDByVJ7dq1K7Ouffv2rvV2u13PP/+8li1bpvDwcA0aNEgvvPCCKwRK0uDBgzVmzBg9+eSTaty4sUaOHKm5c+cqPz+/UrW0adOmzHOol1xyiSS5nomMj4/Xl19+qSZNmpRahgwZIqn4Z3amli1bVurYp8/xr3/9q3bv3q2kpCR98MEH6t+/vz7++GNNmzbtvNvHx8fLMAy1bdu2TH27d+8uU1vTpk3l5+d3zvN99NFH5e/vr759+6pt27aaOnWqVq9eXelzAgCcH89sAgAuypkjmKelpaVp8ODBCgwM1FNPPaXWrVvL29tbW7Zs0aOPPlqpqU5sNlu57YZhVOu2ZnjggQc0YsQILVmyRMuXL9fjjz+umTNn6ptvvlGPHj1ksVj0ySefaN26dfrvf/+r5cuX67bbbtNLL72kdevWuWW+T6fTqSuvvFKPPPJIuetPh7XTyvtzr4zIyEjdfPPNGjNmjDp16qSPP/5YcXFx53yrsNPplMVi0bJly8r9s63K+Xfo0EF79+7V0qVL9eWXX+rTTz/Vm2++qRkzZujJJ5+84P0BAMoibAIA3G7VqlU6ceKEFi1apEGDBrnaDxw4YGJVvwkLC5O3t7f27dtXZl15bVVx+sU4e/fu1e9///tS6/bu3etaf1rr1q310EMP6aGHHlJ8fLy6d++ul156SfPmzXP16d+/v/r3769nnnlGCxYs0Lhx4/Thhx/qjjvuOGct+/btk2EYpUY3f/nlF0lyvQm4devWysrKco1kVjdPT0917dpV8fHxrltiK3oLcOvWrWUYhlq2bFkm9JYnKSlJ2dnZpUY3zz5fSfLz89NNN92km266SQUFBRo9erSeeeYZTZ8+vdStzwCAquE2WgCA250efTpzJLGgoEBvvvmmWSWVYrPZNGTIEC1ZskRJSUmu9n379mnZsmVuOUbv3r0VFham2bNnl7rdddmyZdq9e7eGDx8uqfgtsHl5eaW2bd26tQICAlzbnTp1qsyobPfu3SWpUrfSJiUlafHixa7PGRkZeu+999S9e3dFRERIkm688UatXbtWy5cvL7N9WlqaioqKKnHWZcXHxysxMbHcfa5du1YhISGuZz9Ph8Ozn+McPXq0bDabnnzyyTI/B8MwdOLEiVJtRUVFeuutt1yfCwoK9NZbb6lJkybq1auXJJXZxsvLSx07dpRhGFV6LhYAUBYjmwAAtxswYIBCQkI0ceJE3XfffbJYLHr//fdr1W2sTzzxhL766isNHDhQ99xzjxwOh15//XV17txZ27Ztq9Q+CgsL9fe//71Me2hoqO699149//zzmjx5sgYPHqyxY8e6pj5p0aKF/vSnP0kqHnG74oordOONN6pjx47y8PDQ4sWLlZKSoptvvlmS9O677+rNN9/Uddddp9atWyszM1Nz5sxRYGCgrrnmmvPWeckll+j222/Xxo0bFR4erv/85z9KSUnR3LlzXX0efvhhff7557r22ms1adIk9erVS9nZ2dqxY4c++eQTJSQkuKYjuRDbt2/XLbfcomHDhunSSy9VaGiojhw5onfffVdJSUl6+eWXXf84cToI/vWvf9XNN98sT09PjRgxQq1bt9bf//53TZ8+XQkJCRo1apQCAgJ04MABLV68WHfeeaf+/Oc/u47ZtGlTPf/880pISNAll1yijz76SNu2bdPbb7/tmjbnqquuUkREhAYOHKjw8HDt3r1br7/+uoYPH66AgIALPk8AQDlMegsuAKCOqWjqk4qmj1i9erXRv39/w8fHx2jatKnxyCOPGMuXLzckGd9++62rX0VTn5Q3FYgk429/+5vrc0VTn0ydOrXMtjExMcbEiRNLta1cudLo0aOH4eXlZbRu3dp45513jIceesjw9vau4Kfwm4kTJxqSyl1at27t6vfRRx8ZPXr0MOx2uxEaGmqMGzfOOHz4sGv98ePHjalTpxrt27c3/Pz8jKCgIKNfv37Gxx9/7OqzZcsWY+zYsUbz5s0Nu91uhIWFGddee62xadOm89YZExNjDB8+3Fi+fLnRtWtXw263G+3btzcWLlxYpm9mZqYxffp0o02bNoaXl5fRuHFjY8CAAcY//vEP15Qh5/rzKU9KSorx3HPPGYMHDzYiIyMNDw8PIyQkxPj9739vfPLJJ2X6P/3000ZUVJRhtVrLTIPy6aefGr/73e8MPz8/w8/Pz2jfvr0xdepUY+/eva4+p6/JTZs2GbGxsYa3t7cRExNjvP7666WO89ZbbxmDBg0yGjVqZNjtdqN169bGww8/bKSnp1fqvAAA52cxjFr0z8wAAJhs1KhR2rVrl+Lj480uxS1atGihzp07a+nSpWaXUiMuu+wyHT9+XDt37jS7FABo8HhmEwDQYOXm5pb6HB8fry+++EKXXXaZOQUBAFCP8MwmAKDBatWqlSZNmqRWrVrp4MGDmjVrlry8vCqc/gMAAFQeYRMA0GBdffXV+uCDD5ScnCy73a7Y2Fg9++yzatu2rdmlAQBQ5/HMJgAAAADA7XhmEwAAAADgdoRNAAAAAIDbNbhnNp1Op5KSkhQQECCLxWJ2OQAAAABQpxiGoczMTDVt2lRWa8Xjlw0ubCYlJSk6OtrsMgAAAACgTjt06JCaNWtW4foGFzYDAgIkFf9gAgMDTa4GAAAAAOqWjIwMRUdHu7JVRRpc2Dx962xgYCBhEwAAAACq6HyPJfKCIAAAAACA2xE2AQAAAABuR9gEAAAAALhdg3tmEwAAAGjIDMNQUVGRHA6H2aWglrLZbPLw8LjoqSIJmwAAAEADUVBQoKNHjyonJ8fsUlDL+fr6KjIyUl5eXlXeB2ETAAAAaACcTqcOHDggm82mpk2bysvL66JHrlD/GIahgoICHTt2TAcOHFDbtm1ltVbt6UvCJgAAANAAFBQUyOl0Kjo6Wr6+vmaXg1rMx8dHnp6eOnjwoAoKCuTt7V2l/fCCIAAAAKABqeooFRoWd1wnXGkAAAAAALcjbAIAAAAA3I6wCQAAAKDBadGihV5++eVK91+1apUsFovS0tKqrab6hrAJAAAAoNayWCznXJ544okq7Xfjxo268847K91/wIABOnr0qIKCgqp0vMqqT6GWt9HWMnmFDnl72swuAwAAAKgVjh496vr+o48+0owZM7R3715Xm7+/v+t7wzDkcDjk4XH+mNOkSZMLqsPLy0sREREXtE1Dx8hmLZGUlqsp723Sta/9KKfTMLscAAAANACGYSinoMiUxTAq9ztvRESEawkKCpLFYnF93rNnjwICArRs2TL16tVLdrtdP/74o3799VeNHDlS4eHh8vf3V58+ffT111+X2u/Zt9FaLBa98847uu666+Tr66u2bdvq888/d60/e8QxLi5OwcHBWr58uTp06CB/f39dffXVpcJxUVGR7rvvPgUHB6tRo0Z69NFHNXHiRI0aNarKf2anTp3ShAkTFBISIl9fXw0bNkzx8fGu9QcPHtSIESMUEhIiPz8/derUSV988YVr23HjxqlJkyby8fFR27ZtNXfu3CrXcj6MbNYSgT6eWvfrCWXmF+n7+GO6rF2Y2SUBAACgnsstdKjjjOWmHPvnp4bK18s9ceSxxx7TP/7xD7Vq1UohISE6dOiQrrnmGj3zzDOy2+167733NGLECO3du1fNmzevcD9PPvmkXnjhBb344ot67bXXNG7cOB08eFChoaHl9s/JydE//vEPvf/++7JarRo/frz+/Oc/a/78+ZKk559/XvPnz9fcuXPVoUMHvfLKK1qyZIkuv/zyKp/rpEmTFB8fr88//1yBgYF69NFHdc011+jnn3+Wp6enpk6dqoKCAn3//ffy8/PTzz//7Br9ffzxx/Xzzz9r2bJlaty4sfbt26fc3Nwq13I+hM1awt/uoRt6R+s/qw8obk0CYRMAAACopKeeekpXXnml63NoaKi6devm+vz0009r8eLF+vzzzzVt2rQK9zNp0iSNHTtWkvTss8/q1Vdf1YYNG3T11VeX27+wsFCzZ89W69atJUnTpk3TU0895Vr/2muvafr06bruuuskSa+//rprlLEqTofM1atXa8CAAZKk+fPnKzo6WkuWLNENN9ygxMREjRkzRl26dJEktWrVyrV9YmKievTood69e0sqHt2tToTNWmRCbIzmrjmgVXuPaf+xLLVq4n/+jQAAAIAq8vG06eenhpp2bHc5HZ5Oy8rK0hNPPKH//e9/Onr0qIqKipSbm6vExMRz7qdr166u7/38/BQYGKjU1NQK+/v6+rqCpiRFRka6+qenpyslJUV9+/Z1rbfZbOrVq5ecTucFnd9pu3fvloeHh/r16+dqa9Sokdq1a6fdu3dLku677z7dc889+uqrrzRkyBCNGTPGdV733HOPxowZoy1btuiqq67SqFGjXKG1OvDMZi3SorGffl8yovne2oMmVwMAAID6zmKxyNfLw5TFYrG47Tz8/PxKff7zn/+sxYsX69lnn9UPP/ygbdu2qUuXLiooKDjnfjw9Pcv8fM4VDMvrX9lnUavLHXfcof379+vWW2/Vjh071Lt3b7322muSpGHDhungwYP605/+pKSkJF1xxRX685//XG21mBo2Z82apa5duyowMFCBgYGKjY3VsmXLKuwfFxdX5lXH3t7eNVhx9Zs8sKUkaeGmQ8rMKzS5GgAAAKDuWb16tSZNmqTrrrtOXbp0UUREhBISEmq0hqCgIIWHh2vjxo2uNofDoS1btlR5nx06dFBRUZHWr1/vajtx4oT27t2rjh07utqio6N19913a9GiRXrooYc0Z84c17omTZpo4sSJmjdvnl5++WW9/fbbVa7nfEy9jbZZs2Z67rnn1LZtWxmGoXfffVcjR47U1q1b1alTp3K3CQwMLPWqY3f+i0htMLBNI7UJ89e+1Cx9svmwK3wCAAAAqJy2bdtq0aJFGjFihCwWix5//PEq37p6Mf74xz9q5syZatOmjdq3b6/XXntNp06dqlSG2bFjhwICAlyfLRaLunXrppEjR2rKlCl66623FBAQoMcee0xRUVEaOXKkJOmBBx7QsGHDdMkll+jUqVP69ttv1aFDB0nSjBkz1KtXL3Xq1En5+flaunSpa111MDVsjhgxotTnZ555RrNmzdK6desqDJunX3VcX1ksFk0a0EL/t2Sn3l2ToImxLWS11q9ADQAAAFSnf/7zn7rttts0YMAANW7cWI8++qgyMjJqvI5HH31UycnJmjBhgmw2m+68804NHTpUNtv5n1cdNGhQqc82m01FRUWaO3eu7r//fl177bUqKCjQoEGD9MUXX7hu6XU4HJo6daoOHz6swMBAXX311frXv/4lqXiu0OnTpyshIUE+Pj669NJL9eGHH7r/xEtYDLNvKi7hcDi0cOFCTZw4UVu3bi01DHxaXFyc7rjjDkVFRcnpdKpnz5569tlnKwymkpSfn6/8/HzX54yMDEVHRys9PV2BgYHVci4XK6egSP2eXanMvCLNndRHl7fnzbQAAAC4OHl5eTpw4IBatmxZ7x5FqyucTqc6dOigG2+8UU8//bTZ5ZzTua6XjIwMBQUFnTdTmf6CoB07dsjf3192u1133323Fi9eXG7QlKR27drpP//5jz777DPNmzdPTqdTAwYM0OHDhyvc/8yZMxUUFORaoqOjq+tU3MbXy0M39ymuc+6aBHOLAQAAAFAlBw8e1Jw5c/TLL79ox44duueee3TgwAHdcsstZpdWI0wf2SwoKFBiYqLS09P1ySef6J133tF3331XYeA8U2FhoTp06KCxY8dW+C8DdXFkU5IOnczRoBe/lWFIXz84WG3CmAYFAAAAVcfIZs07dOiQbr75Zu3cuVOGYahz58567rnnytwiWxu5Y2TT9Hk2vby81KZNG0lSr169tHHjRr3yyit66623zrutp6enevTooX379lXYx263y263u63emhId6qshHcK14ucUvbsmQU+P6mx2SQAAAAAuQHR0tFavXm12GaYx/TbaszmdzlIjkeficDi0Y8cORUZGVnNV5pg8oIUk6dMth5WeyzQoAAAAAOoOU8Pm9OnT9f333yshIUE7duzQ9OnTtWrVKo0bN06SNGHCBE2fPt3V/6mnntJXX32l/fv3a8uWLRo/frwOHjyoO+64w6xTqFaxrRvpknB/5RQ4tHDTIbPLAQAAQD1QS94PilrOHdeJqWEzNTVVEyZMULt27XTFFVdo48aNWr58ua688kpJUmJioo4ePerqf+rUKU2ZMkUdOnTQNddco4yMDK1Zs6ZSz3fWRcXToBTPs/ne2oNyOPkfAwAAAKrm9NQYOTk5JleCuuD0dXL6uqkK018QVNMq+zBrbZFb4FD/mSuVnluodyb01pCO4WaXBAAAgDrq6NGjSktLU1hYmHx9fWWxMJ87SjMMQzk5OUpNTVVwcHC5jyzWmRcE4dx8vGy6uW+03vpuv+LWJBA2AQAAUGURERGSiu8wBM4lODjYdb1UFWGzDri1f4zmfL9fP+47rviUTLUNDzC7JAAAANRBFotFkZGRCgsLU2EhL6BE+Tw9PWWz2S56P4TNOqBZiK+u6hihL3clK25Ngp65rovZJQEAAKAOs9lsbgkTwLnUuqlPUL5JA1tIkhZtOaL0HP4VCgAAAEDtRtisI/q1DFX7iADlFjr0MdOgAAAAAKjlCJt1hMVi0eSS0c131yYwDQoAAACAWo2wWYeM7B6lYF9PHT6Vq693p5hdDgAAAABUiLBZh3h72jS2b3NJUtzqBHOLAQAAAIBzIGzWMeP7x8hmtWjt/hPak5xhdjkAAAAAUC7CZh0TFeyjoZ3CJUnvrkkwtxgAAAAAqABhsw6aPLClJGnx1iM6lV1gcjUAAAAAUBZhsw7qHROiTk0DlVfo1EdMgwIAAACgFiJs1kEWi0WTBrSQJL2/9qCKHE5zCwIAAACAsxA266gR3Zoq1M9LR9KYBgUAAABA7UPYrKO8PW26pWQalLlMgwIAAACgliFs1mGnp0FZf+Ckfk5iGhQAAAAAtQdhsw6LCPLWsM4RkpgGBQAAAEDtQtis4yYPbCFJWrLtiE4yDQoAAACAWoKwWcf1bB6iLlFByi9y6oMNiWaXAwAAAACSCJt13pnToMxbd1CFTIMCAAAAoBYgbNYD13aLVGN/Lx1Nz9NXu5gGBQAAAID5CJv1gN3Dplv6xUiS4tYcMLkaAAAAACBs1hvj+zWXh9WijQmntPNIutnlAAAAAGjgCJv1RFigt4Z3jZQkxTENCgAAAACTETbrkdMvCvp8W5KOZ+WbWwwAAACABo2wWY/0aB6ibtHBKnA49SHToAAAAAAwEWGznplcMrr5PtOgAAAAADARYbOeuaZLpJoE2JWSka9lO5PNLgcAAABAA0XYrGe8PKwa16+5JCluNdOgAAAAADAHYbMeuqVfc3naLNqSmKbth9LMLgcAAABAA0TYrIfCArx1bdemkqR3mQYFAAAAgAkIm/XU6WlQ/vtTklIz88wtBgAAAECDQ9isp7pFB6tn82AVOgx9sP6Q2eUAAAAAaGAIm/XYpIEtJUnz1h9UQRHToAAAAACoOYTNemxY5wiFB9p1LDNfy3YeNbscAAAAAA0IYbMe87RZNb5fjCRp7uoEc4sBAAAA0KAQNuu5sf2ay8tm1bZDadqaeMrscgAAAAA0EITNeq6xv10jujENCgAAAICaRdhsAE5Pg/K/HUeVmsE0KAAAAACqH2GzAejSLEi9Y0JU6DA0b32i2eUAAAAAaABMDZuzZs1S165dFRgYqMDAQMXGxmrZsmXn3GbhwoVq3769vL291aVLF33xxRc1VG3dNmlgC0nSgvUHlV/kMLcYAAAAAPWeqWGzWbNmeu6557R582Zt2rRJv//97zVy5Ejt2rWr3P5r1qzR2LFjdfvtt2vr1q0aNWqURo0apZ07d9Zw5XXP0E4Rigj01vGsAv3vJ6ZBAQAAAFC9LIZhGGYXcabQ0FC9+OKLuv3228usu+mmm5Sdna2lS5e62vr376/u3btr9uzZldp/RkaGgoKClJ6ersDAQLfVXRe88e0+vbh8r7pEBenzaQNlsVjMLgkAAABAHVPZTFVrntl0OBz68MMPlZ2drdjY2HL7rF27VkOGDCnVNnToUK1du7bC/ebn5ysjI6PU0lCN7dtcXh5W7TiSri2JaWaXAwAAAKAeMz1s7tixQ/7+/rLb7br77ru1ePFidezYsdy+ycnJCg8PL9UWHh6u5OTkCvc/c+ZMBQUFuZbo6Gi31l+XhPp5aVT34mlQ4pgGBQAAAEA1Mj1stmvXTtu2bdP69et1zz33aOLEifr555/dtv/p06crPT3dtRw6dMht+66LJpZMg7Jsx1ElpzMNCgAAAIDqYXrY9PLyUps2bdSrVy/NnDlT3bp10yuvvFJu34iICKWkpJRqS0lJUURERIX7t9vtrrfdnl4ask5Ng9S3ZaiKnIbmrz9odjkAAAAA6inTw+bZnE6n8vPzy10XGxurlStXlmpbsWJFhc94onyTS0Y3F6xPVF4h06AAAAAAcD8PMw8+ffp0DRs2TM2bN1dmZqYWLFigVatWafny5ZKkCRMmKCoqSjNnzpQk3X///Ro8eLBeeuklDR8+XB9++KE2bdqkt99+28zTqHOu7BiupkHeSkrP09Kfjur6Xs3MLgkAAABAPWPqyGZqaqomTJigdu3a6YorrtDGjRu1fPlyXXnllZKkxMREHT3625yQAwYM0IIFC/T222+rW7du+uSTT7RkyRJ17tzZrFOokzxsVt0a20KSNHf1AdWy2W8AAAAA1AO1bp7N6taQ59k806nsAvWfuVL5RU4tvDtWfVqEml0SAAAAgDqgzs2ziZoV4uel63pESZLiVieYWwwAAACAeoew2YBNGthCkvTlrmQlpeWaWwwAAACAeoWw2YC1jwhUbKtGcjgNzVvHNCgAAAAA3Iew2cCdHt38YAPToAAAAABwH8JmAzekQ7iign10KqdQn29LMrscAAAAAPUEYbOBs1ktmjggRpI0d00C06AAAAAAcAvCJnRT7+by8bRp99EMbThw0uxyAAAAANQDhE0oyNdT1/UsmQZlTYK5xQAAAACoFwibkCRNGtBCkrR8V7KOMA0KAAAAgItE2IQk6ZLwAA1s00hOQ3pvbYLZ5QAAAACo4wibcJk0oKUk6cMNh5RbwDQoAAAAAKqOsAmX37cPU3Soj9JzC7Vk2xGzywEAAABQhxE24WKzWjQxtoUkKW4106AAAAAAqDrCJkq5oXe0fL1s2puSqbX7T5hdDgAAAIA6irCJUoJ8PDWmZzNJxaObAAAAAFAVhE2UMXFAjCTp690pOnQyx+RqAAAAANRFhE2U0SYsQJe2bSynIb2/7qDZ5QAAAACogwibKNfkgS0kSR9uSFROQZG5xQAAAACocwibKNdll4QpppGvMvKKtHgr06AAAAAAuDCETZTLyjQoAAAAAC4CYRMVur53M/l52RSfmqXV+5gGBQAAAEDlETZRoUBvT13fq2QalDUHTK4GAAAAQF1C2MQ5TRjQQpK0ck+qDp7INrcYAAAAAHUGYRPn1LqJvy5r10SGIb23lmlQAAAAAFQOYRPnNalkdPPjjYeUnc80KAAAAADOj7CJ8xrUtolaNfZTZn6RFm05bHY5AAAAAOoAwibOy2q1aGLJ6GbcmgQ5nUyDAgAAAODcCJuolDG9msnf7qFfj2Xrx33HzS4HAAAAQC1H2ESl+Ns9dEPv09OgJJhbDAAAAIBaj7CJSpsY20IWi/TNnlQdOM40KAAAAAAqRthEpbVo7KfL24VJkt5ldBMAAADAORA2cUFOT4PyyebDyswrNLcYAAAAALUWYRMX5NK2jdW6iZ+y8ov06WamQQEAAABQPsImLojFYtGkgS0lSe+uPcg0KAAAAADKRdjEBRvdI0oB3h46cDxb38UfM7scAAAAALUQYRMXzM/uoZt6R0uS4lYnmFsMAAAAgFqJsIkqmVAyDcp3vxzTr8eyzC4HAAAAQC1D2ESVNG/kqyvah0uS3mMaFAAAAABnIWyiyiYPbCGpeBqUDKZBAQAAAHAGU8PmzJkz1adPHwUEBCgsLEyjRo3S3r17z7lNXFycLBZLqcXb27uGKsaZBrRupLZh/soucOiTTUyDAgAAAOA3pobN7777TlOnTtW6deu0YsUKFRYW6qqrrlJ2dvY5twsMDNTRo0ddy8GDB2uoYpypeBqUFpKkd9cmMA0KAAAAABcPMw/+5ZdflvocFxensLAwbd68WYMGDapwO4vFooiIiOouD5VwXY8oPb9sjw6eyNG3e1N1RYdws0sCAAAAUAvUqmc209PTJUmhoaHn7JeVlaWYmBhFR0dr5MiR2rVrV4V98/PzlZGRUWqB+/h6eejmvs0lSXG8KAgAAABAiVoTNp1Opx544AENHDhQnTt3rrBfu3bt9J///EefffaZ5s2bJ6fTqQEDBujw4fKfGZw5c6aCgoJcS3R0dHWdQoN1a/8YWS3SD/HHFZ+SaXY5AAAAAGoBi2EYteJBu3vuuUfLli3Tjz/+qGbNmlV6u8LCQnXo0EFjx47V008/XWZ9fn6+8vPzXZ8zMjIUHR2t9PR0BQYGuqV2SHe9v0nLd6VofP/m+vuoLmaXAwAAAKCaZGRkKCgo6LyZqlaMbE6bNk1Lly7Vt99+e0FBU5I8PT3Vo0cP7du3r9z1drtdgYGBpRa436QBLSVJn24+ovRcpkEBAAAAGjpTw6ZhGJo2bZoWL16sb775Ri1btrzgfTgcDu3YsUORkZHVUCEqq3+rULWPCFBuoUMLNx0yuxwAAAAAJjM1bE6dOlXz5s3TggULFBAQoOTkZCUnJys3N9fVZ8KECZo+fbrr81NPPaWvvvpK+/fv15YtWzR+/HgdPHhQd9xxhxmngBIWi0WTBrSQVDwNioNpUAAAAIAGzdSwOWvWLKWnp+uyyy5TZGSka/noo49cfRITE3X06FHX51OnTmnKlCnq0KGDrrnmGmVkZGjNmjXq2LGjGaeAM4zsHqVgX08dOpmrb/akml0OAAAAABPVmhcE1ZTKPsyKqnlu2R7N/u5XDWzTSPPv6G92OQAAAADcrE69IAj1x62xxdOgrN53Qr8wDQoAAADQYBE24VZRwT4a2ilCkhS3JsHcYgAAAACYhrAJtzv9oqBFWw4rLafA3GIAAAAAmIKwCbfr2zJUHSIDlVfo1EcbmQYFAAAAaIgIm3A7i8WiySWjm++tPagih9PcggAAAADUOMImqsUfujdVqJ+XjqTl6uvdTIMCAAAANDSETVQLb0+bxvaNliTFrTlgcjUAAAAAahphE9VmfP8Y2awWrdt/UruPZphdDgAAAIAaRNhEtYkM8tHVnYunQXmXaVAAAACABoWwiWp1+kVBi7ce0alspkEBAAAAGgrCJqpVr5gQdY4KVH6RUx8yDQoAAADQYBA2Ua0sFosmDWgpSXp/bQLToAAAAAANBGET1e7arpFq5OelpPQ8ffVzitnlAAAAAKgBhE1UO29Pm27p11ySFLc6wdxiAAAAANQIwiZqxPj+MfKwWrQh4aR2Hkk3uxwAAAAA1YywiRoRHuita7pESmIaFAAAAKAhIGyixkwa2EKS9Nn2JJ3Iyje3GAAAAADVirCJGtMjOljdmgWpgGlQAAAAgHqPsIkaY7FYXKOb7689qEKmQQEAAADqLcImatQ1XSLV2N+u5Iw8Ld+VbHY5AAAAAKoJYRM1yu5h0zimQQEAAADqPcImaty4fs3labNo08FT2nGYaVAAAACA+oiwiRoXFuit4SXToMQxDQoAAABQLxE2YYpJA1tKkv67PUnHMpkGBQAAAKhvCJswRffoYHWPDlaBw6kPNiSaXQ4AAAAANyNswjSTS6ZBmbfuoAqKmAYFAAAAqE8ImzDNsM6RCguwKzUzX8t2HjW7HAAAAABuRNiEabw8rBrfP0YSLwoCAAAA6hvCJkw1tm9zedms2pqYpm2H0swuBwAAAICbEDZhqiYBdl3brXgalHcZ3QQAAADqDcImTDd5QPE0KEt/SlJqZp7J1QAAAABwB8ImTNelWZB6xYSo0GFowXqmQQEAAADqA8ImaoVJA1pIkuatS2QaFAAAAKAeIGyiVri6c4TCA+06npWvL3YwDQoAAABQ1xE2USt42qy6tWQalLmrD8gwDJMrAgAAAHAxCJuoNcb2bS4vD6u2H07XVqZBAQAAAOo0wiZqjUb+do3s1lSSFLc6wdxiAAAAAFwUwiZqlYklLwr6YsdRpWQwDQoAAABQVxE2Uat0jgpS3xahKnIamr/uoNnlAAAAAKgiU8PmzJkz1adPHwUEBCgsLEyjRo3S3r17z7vdwoUL1b59e3l7e6tLly764osvaqBa1JRJA1tIkuavT1R+kcPcYgAAAABUialh87vvvtPUqVO1bt06rVixQoWFhbrqqquUnZ1d4TZr1qzR2LFjdfvtt2vr1q0aNWqURo0apZ07d9Zg5ahOV3UMV2SQt05kF2jpdqZBAQAAAOoii1GL5pg4duyYwsLC9N1332nQoEHl9rnpppuUnZ2tpUuXutr69++v7t27a/bs2ec9RkZGhoKCgpSenq7AwEC31Q73enPVPr3w5V51iQrS59MGymKxmF0SAAAAAFU+U9WqZzbT09MlSaGhoRX2Wbt2rYYMGVKqbejQoVq7dm25/fPz85WRkVFqQe13c5/msntYteNIurYknjK7HAAAAAAXqNaETafTqQceeEADBw5U586dK+yXnJys8PDwUm3h4eFKTk4ut//MmTMVFBTkWqKjo91aN6pHqJ+XRnWPkiTNZRoUAAAAoM6pNWFz6tSp2rlzpz788EO37nf69OlKT093LYcOHXLr/lF9Tk+Dsmxnso6m55pbDAAAAIALUivC5rRp07R06VJ9++23atas2Tn7RkREKCUlpVRbSkqKIiIiyu1vt9sVGBhYakHd0LFpoPq1DJXDaWge06AAAAAAdYqpYdMwDE2bNk2LFy/WN998o5YtW553m9jYWK1cubJU24oVKxQbG1tdZcJEk0umQVmwPlF5hUyDAgAAANQVpobNqVOnat68eVqwYIECAgKUnJys5ORk5eb+dsvkhAkTNH36dNfn+++/X19++aVeeukl7dmzR0888YQ2bdqkadOmmXEKqGZDOoQrKthHp3IK9fn2JLPLAQAAAFBJVQqbhw4d0uHDh12fN2zYoAceeEBvv/32Be1n1qxZSk9P12WXXabIyEjX8tFHH7n6JCYm6ujR3+ZaHDBggBYsWKC3335b3bp10yeffKIlS5ac86VCqLs8bFZNiI2RJMWtTlAtmqkHAAAAwDlUaZ7NSy+9VHfeeaduvfVWJScnq127durUqZPi4+P1xz/+UTNmzKiOWt2CeTbrnrScAvWfuVJ5hU59fFes+raseGocAAAAANWrWufZ3Llzp/r27StJ+vjjj9W5c2etWbNG8+fPV1xcXJUKBioS7Oul63oUvzgqbs0Bk6sBAAAAUBlVCpuFhYWy2+2SpK+//lp/+MMfJEnt27cvdcsr4C6TSqZBWb4rRUfSmAYFAAAAqO2qFDY7deqk2bNn64cfftCKFSt09dVXS5KSkpLUqFEjtxYISFK7iAANaN2IaVAAAACAOqJKYfP555/XW2+9pcsuu0xjx45Vt27dJEmff/656/ZawN1Oj25+sIFpUAAAAIDazqMqG1122WU6fvy4MjIyFBIS4mq/88475evr67bigDNd0SFczUJ8dPhUrj7bdkQ39WludkkAAAAAKlClkc3c3Fzl5+e7gubBgwf18ssva+/evQoLC3NrgcBpNqtFE2NbSJLmMg0KAAAAUKtVKWyOHDlS7733niQpLS1N/fr100svvaRRo0Zp1qxZbi0QONONvaPl42nTnuRMrdt/0uxyAAAAAFSgSmFzy5YtuvTSSyVJn3zyicLDw3Xw4EG99957evXVV91aIHCmIF9Pje4ZJYlpUAAAAIDarEphMycnRwEBAZKkr776SqNHj5bValX//v118CBvCkX1Ov2ioBU/p+jQyRxziwEAAABQriqFzTZt2mjJkiU6dOiQli9frquuukqSlJqaqsDAQLcWCJytbXiALm3bWE5DTIMCAAAA1FJVCpszZszQn//8Z7Vo0UJ9+/ZVbGyspOJRzh49eri1QKA8Z06DklNQZG4xAAAAAMqoUti8/vrrlZiYqE2bNmn58uWu9iuuuEL/+te/3FYcUJHL24UpppGvMvKKtGRrktnlAAAAADhLlcKmJEVERKhHjx5KSkrS4cOHJUl9+/ZV+/bt3VYcUBGr1aIJJdOgxK05wDQoAAAAQC1TpbDpdDr11FNPKSgoSDExMYqJiVFwcLCefvppOZ1Od9cIlOuG3s3k62XTLylZWvvrCbPLAQAAAHCGKoXNv/71r3r99df13HPPaevWrdq6daueffZZvfbaa3r88cfdXSNQrkBvT13fq5kkae6aBHOLAQAAAFCKxajC/YdNmzbV7Nmz9Yc//KFU+2effaZ7771XR44ccVuB7paRkaGgoCClp6fz5tx6YF9qlob88ztZLNL3D1+u6FBfs0sCAAAA6rXKZqoqjWyePHmy3Gcz27dvr5MnT1Zll0CVtAnz16BLmsgwpHcZ3QQAAABqjSqFzW7duun1118v0/7666+ra9euF10UcCEml0yD8tGmQ8rOZxoUAAAAoDbwqMpGL7zwgoYPH66vv/7aNcfm2rVrdejQIX3xxRduLRA4n8GXNFHLxn46cDxbi7Ye0a39Y8wuCQAAAGjwqjSyOXjwYP3yyy+67rrrlJaWprS0NI0ePVq7du3S+++/7+4agXOyWi2aGFscMONWMw0KAAAAUBtU6QVBFdm+fbt69uwph8Phrl26HS8Iqp8y8woVO/MbZeUX6f3b++rStk3MLgkAAACol6r1BUFAbRNwxjQocasTzC0GAAAAAGET9cfEkhcFfbM3VQnHs80tBgAAAGjgCJuoN1o29tPl7YqnQXlv7UGzywEAAAAatAt6G+3o0aPPuT4tLe1iagEu2qSBLfXt3mNauOmQHrzqEvnbq/TCZQAAAAAX6YJ+Ew8KCjrv+gkTJlxUQcDFuLRNY7Vq4qf9x7K1aMthTYhtYXZJAAAAQIPk1rfR1gW8jbb+e29tgmZ8tkutmvjp6z8NltVqMbskAAAAoN7gbbRosEb3bKYAu4f2H8vW9/HHzC4HAAAAaJAIm6h3/O0euqF3tCQpbk2CucUAAAAADRRhE/XSxAExslikVXuPaf+xLLPLAQAAABocwibqpZhGfrqifZgkpkEBAAAAzEDYRL01aUBLSdLCTYeUmVdocjUAAABAw0LYRL01sE0jtQnzV3aBQ59sPmx2OQAAAECDQthEvWWxWDRpQAtJ0rtrEuRwNqhZfgAAAABTETZRr43uGaVAbw8lnMjRwwu3EzgBAACAGkLYRL3m6+WhF2/oJpvVokVbj+gvi3bISeAEAAAAqh1hE/Xe0E4ReuXm7rJapI82HdLjn+2UYRA4AQAAgOpE2ESDcG3Xpvrnjd1lsUjz1yfqyf/+TOAEAAAAqhFhEw3GqB5RemFMV0lS3JoEPfO/3QROAAAAoJoQNtGg3NA7WjNHd5EkvfPjAb2wfC+BEwAAAKgGpobN77//XiNGjFDTpk1lsVi0ZMmSc/ZftWqVLBZLmSU5OblmCka9MLZvcz09spMkadaqX/Xy1/EmVwQAAADUP6aGzezsbHXr1k1vvPHGBW23d+9eHT161LWEhYVVU4Wor26NbaHHr+0oSXplZbxe/4bACQAAALiTh5kHHzZsmIYNG3bB24WFhSk4ONj9BaFBuf13LVXkcGrmsj36x1e/yNNm1V2DW5tdFgAAAFAv1MlnNrt3767IyEhdeeWVWr169Tn75ufnKyMjo9QCnHbX4Nb681WXSJJmLtujf/94wOSKAAAAgPqhToXNyMhIzZ49W59++qk+/fRTRUdH67LLLtOWLVsq3GbmzJkKCgpyLdHR0TVYMeqCab9vq/uuaCtJenrpz3pvbYK5BQEAAAD1gMWoJa/itFgsWrx4sUaNGnVB2w0ePFjNmzfX+++/X+76/Px85efnuz5nZGQoOjpa6enpCgwMvJiSUY8YhqEXl+/Vm6t+lSTNHN1FY/s2N7kqAAAAoPbJyMhQUFDQeTOVqc9sukPfvn31448/VrjebrfLbrfXYEWoiywWix4e2k6FDqfm/HBAf1m8Qx5Wi27ozUg4AAAAUBV16jba8mzbtk2RkZFml4F6wGKx6C/XdNCkAS1kGNIjn/6kxVsPm10WAAAAUCeZOrKZlZWlffv2uT4fOHBA27ZtU2hoqJo3b67p06fryJEjeu+99yRJL7/8slq2bKlOnTopLy9P77zzjr755ht99dVXZp0C6hmLxaK/jeioQodT89cn6qGPt8vTZtW1XZuaXRoAAABQp5gaNjdt2qTLL7/c9fnBBx+UJE2cOFFxcXE6evSoEhMTXesLCgr00EMP6ciRI/L19VXXrl319ddfl9oHcLEsFoueHtlZRQ5DH206pPs/3CYPq1VXd44wuzQAAACgzqg1LwiqKZV9mBVwOg39+ZPtWrTliDxtFs0a10tDOoabXRYAAABgqspmqjr/zCZQXaxWi168vpv+0K2pCh2G7p2/Rav2pppdFgAAAFAnEDaBc7BZLfrnjd00rHOEChxO3fn+Zv0Yf9zssgAAAIBaj7AJnIeHzapXx/bQlR3DVVDk1B3vbdTaX0+YXRYAAABQqxE2gUrwtFn1+i099Pv2YcordOr2dzdqY8JJs8sCAAAAai3CJlBJdg+b3hzXU5e2baycAocmz92oLYmnzC4LAAAAqJUIm8AF8Pa0ac6E3hrQupGy8os08d8b9NPhNLPLAgAAAGodwiZwgbw9bXpnYm/1bRGqzPwijX9nvXYeSTe7LAAAAKBWIWwCVeDr5aH/TO6jXjEhysgr0q3/Xq89yRlmlwUAAADUGoRNoIr87R6aO7mPukUH61ROocbNWa/4lEyzywIAAABqBcImcBECvT313uS+6hwVqBPZBbrlnfX69ViW2WUBAAAApiNsAhcpyNdT79/WT+0jAnQsM1+3zFmnhOPZZpcFAAAAmIqwCbhBiJ+X5t/RT23D/JWSURw4D53MMbssAAAAwDSETcBNGvnbNX9KP7Vq4qek9DyNnbNOSWm5ZpcFAAAAmIKwCbhRWIC3PpjSXy0a+erwqVyNnbNOyel5ZpcFAAAA1DjCJuBm4YHeWjClv6JDfXTwRI5umbNOqZkETgAAADQshE2gGjQN9tGCO/orKthH+49na9yc9TqelW92WQAAAECNIWwC1SQ61FcLpvRTRKC34lOzNP6d9TqVXWB2WQAAAECNIGwC1SimkZ8+uLO/wgLs2pOcqfH/Xq/0nEKzywIAAACqHWETqGYtG/tpwZR+auzvpV1JGZrwn/XKyCNwAgAAoH4jbAI1oE1YgObf0V8hvp7afjhdk/6zQVn5RWaXBQAAAFQbwiZQQ9pFBGjeHf0U5OOpLYlpmjx3g3IKCJwAAAConwibQA3q1DRI827vpwBvD21MOKXb4zYpt8BhdlkAAACA2xE2gRrWpVmQ3rutr/ztHlq7/4TufH+T8goJnAAAAKhfCJuACXo0D1Hc5D7y9bLph/jjunveZuUXETgBAABQfxA2AZP0bhGq/0zqI29Pq1btPaap87eooMhpdlkAAACAWxA2ARP1b9VI/57YR3YPq77enar7PtiqQgeBEwAAAHUfYRMw2cA2jfX2hN7ysln15a5kPfjxdhUROAEAAFDHETaBWmDwJU00a3xPedos+u/2JD3yyU9yOA2zywIAAACqjLAJ1BJXdAjX67f0lIfVokVbj+ixT3+Sk8AJAACAOoqwCdQiQztF6JWbe8hqkRZuPqy/LtkpwyBwAgAAoO4hbAK1zPCukfrXTd1lsUgfbEjUE5/vInACAACgziFsArXQyO5RevH6brJYpHfXHtTf/7ebwAkAAIA6hbAJ1FLX92qmmdd1kST9+8cDev7LvQROAAAA1BmETaAWu7lvcz09qrMkafZ3v+pfK34xuSIAAACgcgibQC13a/8Yzbi2oyTp1W/26dWV8SZXBAAAAJwfYROoA277XUv95Zr2kqR/rvhFs1b9anJFAAAAwLkRNoE64s5BrfXw0HaSpOe/3KN3fthvckUAAABAxQibQB0y9fI2emBIW0nS3/+3W++tTTC3IAAAAKAChE2gjrn/iraaenlrSdKMz3ZpwfpEkysCAAAAyjI1bH7//fcaMWKEmjZtKovFoiVLlpx3m1WrVqlnz56y2+1q06aN4uLiqr1OoDaxWCz681XtdOegVpKkvyzeoY83HjK5KgAAAKA0U8Nmdna2unXrpjfeeKNS/Q8cOKDhw4fr8ssv17Zt2/TAAw/ojjvu0PLly6u5UqB2sVgsmj6svSYPbCFJenTRT1q89bC5RQEAAABn8DDz4MOGDdOwYcMq3X/27Nlq2bKlXnrpJUlShw4d9OOPP+pf//qXhg4dWl1lArWSxWLRjGs7qtDh1Lx1iXro4+3ysFo1oltTs0sDAAAA6tYzm2vXrtWQIUNKtQ0dOlRr166tcJv8/HxlZGSUWoD6wmKx6Kk/dNbNfaLlNKQHPtqmZTuOml0WAAAAULfCZnJyssLDw0u1hYeHKyMjQ7m5ueVuM3PmTAUFBbmW6OjomigVqDFWq0XPXtdFY3o2k8Np6I8fbNWKn1PMLgsAAAANXJ0Km1Uxffp0paenu5ZDh3iRCuofq9WiF67vqpHdm6rIaeje+Zv17Z5Us8sCAABAA1anwmZERIRSUkqP2KSkpCgwMFA+Pj7lbmO32xUYGFhqAeojm9Wil27opuFdIlXoMHTXvM36If6Y2WUBAACggapTYTM2NlYrV64s1bZixQrFxsaaVBFQu3jYrHr55u66qmO4CoqcuuPdTVrz63GzywIAAEADZGrYzMrK0rZt27Rt2zZJxVObbNu2TYmJxZPUT58+XRMmTHD1v/vuu7V//3498sgj2rNnj9588019/PHH+tOf/mRG+UCt5Gmz6vVbeur37cOUX+TU7XGbtOHASbPLAgAAQANjatjctGmTevTooR49ekiSHnzwQfXo0UMzZsyQJB09etQVPCWpZcuW+t///qcVK1aoW7dueumll/TOO+8w7QlwFi8Pq94c11ODLmmi3EKHJs/doM0HT5ldFgAAABoQi2EYhtlF1KSMjAwFBQUpPT2d5zdR7+UVOnT7uxu1et8JBdg9NO+OfuoWHWx2WQAAAKjDKpup6tQzmwAujLenTe9M6KN+LUOVmV+kW/+9XjuPpJtdFgAAABoAwiZQz/l42fSfSX3UOyZEGXlFGv/v9dp9NMPssgAAAFDPETaBBsDP7qG5k/uoe3Sw0nIKNf6d9YpPyTS7LAAAANRjhE2ggQjw9tS7t/VV56hAncgu0Ng56/XrsSyzywIAAEA9RdgEGpAgH0/Nu72fOkQG6nhWvm6Zs04Jx7PNLgsAAAD1EGETaGCCfb00/45+ahceoJSM4sB56GSO2WUBAACgniFsAg1QqJ+X5t3RT62b+CkpPU9j56zTkbRcs8sCAABAPULYBBqoJgF2fTClv1o29tPhU7ka+/Y6JafnmV0WAAAA6gnCJtCAhQV6a8GUfmoe6qvEkzm6Zc46pWYQOAEAAHDxCJtAAxcZ5KMFU/opKthH+49n65Z31ut4Vr7ZZQEAAKCOI2wCULMQX30wpb8ig7y1LzVL499Zr5PZBWaXBQAAgDqMsAlAktS8ka8WTOmvsAC79iRnavw765WWQ+AEAABA1RA2Abi0bOynBVP6q7G/l34+mqFb/71B6bmFZpcFAACAOoiwCaCUNmH+mn9Hf4X6eWnHkXRNmrtBmXkETgAAAFwYwiaAMtpFBGje7f0U7OuprYlpui1uo7Lzi8wuCwAAAHUIYRNAuTo2DdS82/sp0NtDGxNO6fZ3Nyq3wGF2WQAAAKgjCJsAKtQ5Kkjv3d5P/nYPrdt/UlPe26S8QgInAAAAzo+wCeCcukcH693b+sjXy6Yf9x3XXe9vVn4RgRMAAADnRtgEcF69YkI1d1If+Xja9N0vxzR1/hYVFDnNLgsAAAC1GGETQKX0a9VI/57YW3YPq77enao/frBFhQ4CJwAAAMpH2ARQaQPaNNacCb3lZbNq+a4U3f/hViWn55ldFgAAAGohi2EYhtlF1KSMjAwFBQUpPT1dgYGBZpcD1Enf7EnRXe9vVqHDkNUiDWzTWGN6NtNVncLl6+VhdnkAAACoRpXNVIRNAFWyet9xvfJ1vDYknHS1+XnZNKxLpEb3jFL/lo1ktVpMrBAAAADVgbBZAcIm4F6JJ3K0eOsRLdp6WAdP5Ljao4J9NKpHU43u2Uytm/ibWCEAAADcibBZAcImUD0Mw9Dmg6f06ZYjWvpTkjLzilzrukUHa0zPKI3o2lQhfl4mVgkAAICLRdisAGETqH55hQ6t3J2qRVsOa9Uvx+RwFv9vxtNm0e/bh2l0z2a6vF2YvDx4RxkAAEBdQ9isAGETqFnHs/L1+bYkfbrlsHYlZbjaQ3w9NaJb8W223ZoFyWLh+U4AAIC6gLBZAcImYJ49yRlavOWIFm89otTMfFd7qyZ+GtOzmUb1iFJUsI+JFQIAAOB8CJsVIGwC5nM4Da3ed1yLthzWl7uSlVfolCRZLFJsq0Ya3bOZru4cIX8706gAAADUNoTNChA2gdolK79Iy3Yc1aItR7R2/wlXu4+nTVd3jtDonlEa0LqxbEyjAgAAUCsQNitA2ARqr8OncrRk6xEt2nJE+49nu9rDA+0a1SNKY3o20yXhASZWCAAAAMJmBQibQO1nGIa2HUrToi1H9Pn2JKXnFrrWdY4K1OgezfSH7k3V2N9uYpUAAAANE2GzAoRNoG7JL3Lo2z3HtGjLYX2zJ1VFJdOoeFgtuqxdE43u2Uy/bx8mb0+byZUCAAA0DITNChA2gbrrZHaB/rs9SYu2HNb2w+mu9kBvD13branG9IxSz+YhTKMCAABQjQibFSBsAvXDvtRMLSqZRuVoep6rPaaRr0b3aKbRPaMUHeprYoUAAAD1E2GzAoRNoH5xOA2t339Cn245omU7jyqnwOFa17dlqMb0jNKwLpEK9PY0sUoAAID6g7BZAcImUH/lFBTpy53JWrTliFb/elyn/+9m97Dqqk7F06hc2qaxPGxWcwsFAACowwibFSBsAg3D0fRcLdmapE+3HNa+1CxXe2N/u0Z1b6rRPZupY1P+HwAAAHChCJsVIGwCDYthGNp5JEOfbjmsz7cn6WR2gWtdh8hAjekZpT90b6qwAG8TqwQAAKg7CJsVIGwCDVdBkVPf/VI8jcrK3akqcDglSVaLNOiS4mlUruoYzjQqAAAA51DZTFUrHlx644031KJFC3l7e6tfv37asGFDhX3j4uJksVhKLd7ejEgAOD8vD6uu7BiuWeN7acNfr9DfR3VWz+bBchrSqr3HdN8HW9Xn71/r0U9+0vr9J+R0Nqh/iwMAAHArD7ML+Oijj/Tggw9q9uzZ6tevn15++WUNHTpUe/fuVVhYWLnbBAYGau/eva7PzKkH4EIF+3ppfP8Yje8fowPHs7Voy2Et2nJER9Jy9dGmQ/po0yE1C/HR6B5Ruq5nM7Vs7Gd2yQAAAHWK6bfR9uvXT3369NHrr78uSXI6nYqOjtYf//hHPfbYY2X6x8XF6YEHHlBaWlql9p+fn6/8/HzX54yMDEVHR3MbLYAynE5DGxJOatGWw/piR7Ky8otc63rFhGh0zyhd26WpgnyZRgUAADRcdeI22oKCAm3evFlDhgxxtVmtVg0ZMkRr166tcLusrCzFxMQoOjpaI0eO1K5duyrsO3PmTAUFBbmW6Ohot54DgPrDarWof6tGeuH6btr41yF65ebuGnxJE1kt0uaDp/TXxTvV55mvde/8zfr65xQVljzzCQAAgLJMHdlMSkpSVFSU1qxZo9jYWFf7I488ou+++07r168vs83atWsVHx+vrl27Kj09Xf/4xz/0/fffa9euXWrWrFmZ/oxsArhYqRl5+mxb8TQqe5IzXe2N/Lw0oltTjenZTJ2jArmlHwAANAiVHdk0/ZnNCxUbG1sqmA4YMEAdOnTQW2+9paeffrpMf7vdLrvdXpMlAqhnwgK9NWVQK91xaUv9fDRDi7Yc0Wfbjuh4VoHi1iQobk2CLgn31+iezTSqe5QignhpGQAAgKlhs3HjxrLZbEpJSSnVnpKSooiIiErtw9PTUz169NC+ffuqo0QAcLFYLOrUNEidmgZp+rD2+iH+uD7dclhf/ZyiX1Ky9NyyPXr+yz36XZvGGt0zSkM7RcjXq879mx4AAIBbmPpbkJeXl3r16qWVK1dq1KhRkopfELRy5UpNmzatUvtwOBzasWOHrrnmmmqsFABK87BZdXn7MF3ePkzpuYVatuOoPt1yWBsTTumH+OP6If64fL12aljnSI3pGaX+rRrJauU2WwAA0HCY/jbajz76SBMnTtRbb72lvn376uWXX9bHH3+sPXv2KDw8XBMmTFBUVJRmzpwpSXrqqafUv39/tWnTRmlpaXrxxRe1ZMkSbd68WR07djzv8Sp7fzEAVMXBE9lavPWIFm05osSTOa72pkHeuq5nlK7r0UxtwvxNrBAAAODi1JlnNm+66SYdO3ZMM2bMUHJysrp3764vv/xS4eHhkqTExERZrb+9NPfUqVOaMmWKkpOTFRISol69emnNmjWVCpoAUN1iGvnpgSGX6P4r2mrzwVP6dMsRLf0pSUnpeXrj21/1xre/qlt0sMb0jNKIrk0V4udldskAAADVwvSRzZrGyCaAmpZX6NDK3alatOWwVv1yTA5n8f92PW0WXd4uTKN7NtPl7ZvI7mEzuVIAAIDzq2ymImwCQA06lpmvz7cnadGWw9qVlOFqD/b11IiuTTW6Z5S6RwczjQoAAKi1CJsVIGwCqC32JGdo8ZYjWrz1iFIzf5sPOKaRr7pEBaltWIDahvurbZi/Yhr5ycvDeo69AQAA1AzCZgUImwBqG4fT0Op9x7Voy2F9uStZeYXOMn08rBa1aOynNk381TbcX23C/NU2LECtmvjJ25PbbwEAQM0hbFaAsAmgNsvMK9SGAye1LzVL8SXLvpRMZRc4yu1vtUjNQ33V5oxR0LZhAWod5sccnwAAoFoQNitA2ARQ1xiGoaPpecXhMyXztyCakqmMvKIKt2sW4lMyAlocQNuUjIgGenvWYPUAAKC+IWxWgLAJoL4wDEPHsvK1L+X0KGim4lOytC81SyeyCyrcLiLQu9StuG3D/dWmiT/TsAAAgEohbFaAsAmgITiRle8aAd1XssSnZiolI7/CbRr729UmzO+3AFoSRhv7e/F2XAAA4ELYrABhE0BDlp5bWBI+i0dBT4fRI2m5FW4T7OuptmH+xc+Fhv32gqKIQG9CKAAADRBhswKETQAoKyu/SL+6RkBLwmhqlhJP5qiivyX87R6/PRMaXvJcaJi/ooJ9ZLUSQgEAqK8ImxUgbAJA5eUVOvTrsZIQmlLyXGhqlg6eyJHDWf5fHz6eNlcIbXNGCG0e6isbIRQAgDqPsFkBwiYAXLz8IocOnsgpFUD3pWRp//EsFTrK/2vFy8OqVo391Da85HbckhHRmEZ+8rRZa/gMAABAVVU2UzEJGwDggtk9bLokPECXhAdIinS1FzmcOngyp+StuJmlXlCUX+TUnuRM7UnOLLUvD6tFLRv7ud6K26YkjLZs7CdvT1sNnxkAAHAXwiYAwG08bFa1buKv1k38JUW42h1OQ0dO5bpGQc8MozkFjpKpW7JK7ctqkWIa+ZV5LrR1E3/5eBFCAQCo7biNFgBgGsMwlJSep/iUzDOmaMnSLymZyswrKncbi0VqFuLjehbU9XxomL8CvD1r+AwAAGh4eGazAoRNAKj9DMPQscz8klHQTNfI56+pWTqRXVDhdpFB3q75QYtHQotDaLCvVw1WDwBA/UbYrABhEwDqthNZ+WdM0VLygqKULKVm5le4TWN/u1o38VNYoLdCfT0V6mdXqF/x1xA/TzUq+Rri68XLigAAOA9eEAQAqJca+dvVyN+ufq0alWpPzynUvmOZJc+D/hZGj6Tl6nhWvo5nVRxGzxTo7aFQP69SS4iflxr5eSnE10uN/Eu+lgRUf7uHLBamdAEA4GyETQBAvRDk66leMaHqFRNaqj0rv0i/pmbpwPFsncgu0MnsfJ3MLtTJ7Hydyi7Uiex8ncop1KmcAhmGlJFXpIy8IiWcyKnUcb1sVteo6G9B9IyAenZwZfQUANBAEDYBAPWav91D3aKD1S06+Jz9HE5D6bmFOpldUGo5lVOgE1klX7MLdOqMdbmFDhU4nErJyFdKRuVGTqXfRk/PHDEN9fdSqK9XmVHVUD8vRk8BAHUSYRMAAEk2q8UV7iort8ChkznFAfR0ED3768nsAp3M+S24umv0tEwoPSOwhvgxegoAMB9hEwCAKvLxsinKy0dRwT6V6n/m6OmZI6Znj6aedMPoaYC3R+nbec8Ko2ff6hvA6CkAwM0ImwAA1JCLHT0tE0ZzCnQy64yR05IQ6zSkzLwiZV7A6KmnzVL+iOkZz5qeGVCDfb3k5cHoKQCgYoRNAABqsQsdPXWeHj2tYMTUdYvvGSOrOQUOFToMpWbmn3MKmbMFlDx76m/3kJ+Xh3zttuKvXjb52c/6ep71vl4eslkZWQWA+oSwCQBAPWK1WhRSMgLZuknltskrdJz3pUhnPoN69uipu3h7WisOpaXaPeRnt5X+6mWTr/2sr14ejL4CgIkImwAANHDenjY1DfZR0yqMnp7KLlB2gUM5+UXFXwuKlJ1/1lfX+uK27IIi5Zz+WuCQw2lIkvIKncorLNCJbPedm6fNUjaMni+slrv+t7Dr7Wnl+VYAqATCJgAAuCBnjp6qkqOnFTEMQ/lFTuUUOJSdXxw+S4fRc4XXisNtQZFTklToKA7G6bmFbjjzYhaLzjPyWtxeNsiW06dkna+nTVZuIwZQzxA2AQCAaSwWi7w9bfL2tF3Qi5POp9BRHGDPG1bLC60VtOcUOCRJhiFl5RcpK79IuoBnXM/Hx9PmCqi+XjbZPW2y26zy8ihZzvje7nHG96XabWX6nu5v97DKy2Yr1e5ls8ruWdLfZiXwAnArwiYAAKh3PG1WBflYFeTj6bZ9Op2GcgvL3gbsGpEtb2S2gn5nriu5i1i5hQ7lFjokFbit5gvlabO4gqoruJYTdO3ltHvZbL8F13L6lLc/+1nB2euscM3tykDdRtgEAACoBKvVUnJ7rIcU4J59nr6N+MygenokNb/QqQKHUwVFxUt+kUP5RaXbCko+n9n3tz4l/c/od+Z2p/udqdBhqNDhUHaBQ5L7bj2uqrNHbsuMxnpY5eVhK247e9S3zOhucdj1tFrkYbPK02aRh9UqD5vlrO+t8rCWfC1p97SVbFOyrc362zaeNguhGKgAYRMAAMAkZ95G3MiE4xuGUTqElhdci8787CgTXvPP7FfkVIHDUe7+zg6+pfZV0lboMErVd3qd3He3crWwWS0VBFSLPK1lQ2vpvmWD7plh+PR+Ktretf/T21YQlMvf5rfvTx/bZiU8w30ImwAAAA2UxWKR3cMmu4fN7FIkFd+qXCqYlhnFdSi/0Kn8ckd3HaVHgkuNCv/2faHDqSKnoSJncbgtKvlc+nunihyl+xQ6i786jbJ1O5yGHM7iUer6wNNWHDrPDLKnR3XPDrjF7cXB1mIpDt42i0VWq0XWks9WS/Fy+nubVcVtp/ta5Pr+dNi1WXXGfixn7Edn7Kf0tq59nt5/eduV6lv2GDaL5bfzKOeYru1Pb+s6ZkktZ+2noQd3wiYAAABqBavVIm9r8UhvbeV0Gip0loTRkkBafkA9s99vYbXw9DYO47fgW9LucFZmm7Lbn31sh7Psvsses/hYRjnhubDkOHmqH+HZTKeDqsXyW5guFZDPDtzlBNyP7op16/PnNYmwCQAAAFSS1WqR3WqTvZ78Fn2+YOpw/hZwzzX66zQM1wiv0zDkNOT6vvhrcVB3GCXrnYYcTslhGDJOb2sYMgydtZ/ifs7T+zq9raEz9lP2mK7jlhzD1dcobnNWcEyj5BiOkj6/7adk/2fsp7ygfjanITkdhqRKdK7IRWxqtnrynwkAAACAC1V8u2jtHUmuzYxzBNzSwfiMsH1WiC6zraEyAdfXXnf/fAibAAAAAHCBim+NLQ7sKJ/V7AIAAAAAAPUPYRMAAAAA4HaETQAAAACA2xE2AQAAAABuVyvC5htvvKEWLVrI29tb/fr104YNG87Zf+HChWrfvr28vb3VpUsXffHFFzVUKQAAAACgMkwPmx999JEefPBB/e1vf9OWLVvUrVs3DR06VKmpqeX2X7NmjcaOHavbb79dW7du1ahRozRq1Cjt3LmzhisHAAAAAFTEYhiVmY60+vTr1099+vTR66+/LklyOp2Kjo7WH//4Rz322GNl+t90003Kzs7W0qVLXW39+/dX9+7dNXv27PMeLyMjQ0FBQUpPT1dgYKD7TgQAAAAAGoDKZipTRzYLCgq0efNmDRkyxNVmtVo1ZMgQrV27ttxt1q5dW6q/JA0dOrTC/vn5+crIyCi1AAAAAACql6lh8/jx43I4HAoPDy/VHh4eruTk5HK3SU5OvqD+M2fOVFBQkGuJjo52T/EAAAAAgAqZ/sxmdZs+fbrS09Ndy6FDh8wuCQAAAADqPQ8zD964cWPZbDalpKSUak9JSVFERES520RERFxQf7vdLrvd7p6CAQAAAACVYurIppeXl3r16qWVK1e62pxOp1auXKnY2Nhyt4mNjS3VX5JWrFhRYX8AAAAAQM0zdWRTkh588EFNnDhRvXv3Vt++ffXyyy8rOztbkydPliRNmDBBUVFRmjlzpiTp/vvv1+DBg/XSSy9p+PDh+vDDD7Vp0ya9/fbbZp4GAAAAAOAMpofNm266SceOHdOMGTOUnJys7t2768svv3S9BCgxMVFW628DsAMGDNCCBQv0f//3f/rLX/6itm3basmSJercubNZpwAAAAAAOIvp82zWtPT0dAUHB+vQoUPMswkAAAAAFygjI0PR0dFKS0tTUFBQhf1MH9msaZmZmZLEFCgAAAAAcBEyMzPPGTYb3Mim0+lUUlKSAgICZLFYzC4HNeD0v7wwmo26gOsVdQ3XLOoSrlfUJbX5ejUMQ5mZmWratGmpRx7P1uBGNq1Wq5o1a2Z2GTBBYGBgrfsPFagI1yvqGq5Z1CVcr6hLauv1eq4RzdNMnfoEAAAAAFA/ETYBAAAAAG5H2ES9Z7fb9be//U12u93sUoDz4npFXcM1i7qE6xV1SX24XhvcC4IAAAAAANWPkU0AAAAAgNsRNgEAAAAAbkfYBAAAAAC4HWETAAAAAOB2hE3USTNnzlSfPn0UEBCgsLAwjRo1Snv37i3VJy8vT1OnTlWjRo3k7++vMWPGKCUlpVSfxMREDR8+XL6+vgoLC9PDDz+soqKimjwVNEDPPfecLBaLHnjgAVcb1ytqkyNHjmj8+PFq1KiRfHx81KVLF23atMm13jAMzZgxQ5GRkfLx8dGQIUMUHx9fah8nT57UuHHjFBgYqODgYN1+++3Kysqq6VNBA+BwOPT444+rZcuW8vHxUevWrfX000/rzHdgcs3CLN9//71GjBihpk2bymKxaMmSJaXWu+va/Omnn3TppZfK29tb0dHReuGFF6r71CqFsIk66bvvvtPUqVO1bt06rVixQoWFhbrqqquUnZ3t6vOnP/1J//3vf7Vw4UJ99913SkpK0ujRo13rHQ6Hhg8froKCAq1Zs0bvvvuu4uLiNGPGDDNOCQ3Exo0b9dZbb6lr166l2rleUVucOnVKAwcOlKenp5YtW6aff/5ZL730kkJCQlx9XnjhBb366quaPXu21q9fLz8/Pw0dOlR5eXmuPuPGjdOuXbu0YsUKLV26VN9//73uvPNOM04J9dzzzz+vWbNm6fXXX9fu3bv1/PPP64UXXtBrr73m6sM1C7NkZ2erW7dueuONN8pd745rMyMjQ1dddZViYmK0efNmvfjii3riiSf09ttvV/v5nZcB1AOpqamGJOO7774zDMMw0tLSDE9PT2PhwoWuPrt37zYkGWvXrjUMwzC++OILw2q1GsnJya4+s2bNMgIDA438/PyaPQE0CJmZmUbbtm2NFStWGIMHDzbuv/9+wzC4XlG7PProo8bvfve7Ctc7nU4jIiLCePHFF11taWlpht1uNz744APDMAzj559/NiQZGzdudPVZtmyZYbFYjCNHjlRf8WiQhg8fbtx2222l2kaPHm2MGzfOMAyuWdQekozFixe7Prvr2nzzzTeNkJCQUr8PPProo0a7du2q+YzOj5FN1Avp6emSpNDQUEnS5s2bVVhYqCFDhrj6tG/fXs2bN9fatWslSWvXrlWXLl0UHh7u6jN06FBlZGRo165dNVg9GoqpU6dq+PDhpa5LiesVtcvnn3+u3r1764YbblBYWJh69OihOXPmuNYfOHBAycnJpa7XoKAg9evXr9T1GhwcrN69e7v6DBkyRFarVevXr6+5k0GDMGDAAK1cuVK//PKLJGn79u368ccfNWzYMElcs6i93HVtrl27VoMGDZKXl5erz9ChQ7V3716dOnWqhs6mfB6mHh1wA6fTqQceeEADBw5U586dJUnJycny8vJScHBwqb7h4eFKTk529TnzF/fT60+vA9zpww8/1JYtW7Rx48Yy67heUZvs379fs2bN0oMPPqi//OUv2rhxo+677z55eXlp4sSJruutvOvxzOs1LCys1HoPDw+FhoZyvcLtHnvsMWVkZKh9+/ay2WxyOBx65plnNG7cOEnimkWt5a5rMzk5WS1btiyzj9PrznwMoqYRNlHnTZ06VTt37tSPP/5odilAuQ4dOqT7779fK1askLe3t9nlAOfkdDrVu3dvPfvss5KkHj16aOfOnZo9e7YmTpxocnVAWR9//LHmz5+vBQsWqFOnTtq2bZseeOABNW3alGsWMBm30aJOmzZtmpYuXapvv/1WzZo1c7VHRESooKBAaWlppfqnpKQoIiLC1efst32e/ny6D+AOmzdvVmpqqnr27CkPDw95eHjou+++06uvvioPDw+Fh4dzvaLWiIyMVMeOHUu1dejQQYmJiZJ+u97Kux7PvF5TU1NLrS8qKtLJkye5XuF2Dz/8sB577DHdfPPN6tKli2699Vb96U9/0syZMyVxzaL2cte1WZt/RyBsok4yDEPTpk3T4sWL9c0335S5daBXr17y9PTUypUrXW179+5VYmKiYmNjJUmxsbHasWNHqf+AV6xYocDAwDK/aAEX44orrtCOHTu0bds219K7d2+NGzfO9T3XK2qLgQMHlplK6pdfflFMTIwkqWXLloqIiCh1vWZkZGj9+vWlrte0tDRt3rzZ1eebb76R0+lUv379auAs0JDk5OTIai39K63NZpPT6ZTENYvay13XZmxsrL7//nsVFha6+qxYsULt2rUz9RZaSbyNFnXTPffcYwQFBRmrVq0yjh496lpycnJcfe6++26jefPmxjfffGNs2rTJiI2NNWJjY13ri4qKjM6dOxtXXXWVsW3bNuPLL780mjRpYkyfPt2MU0IDc+bbaA2D6xW1x4YNGwwPDw/jmWeeMeLj44358+cbvr6+xrx581x9nnvuOSM4ONj47LPPjJ9++skYOXKk0bJlSyM3N9fV5+qrrzZ69OhhrF+/3vjxxx+Ntm3bGmPHjjXjlFDPTZw40YiKijKWLl1qHDhwwFi0aJHRuHFj45FHHnH14ZqFWTIzM42tW7caW7duNSQZ//znP42tW7caBw8eNAzDPddmWlqaER4ebtx6663Gzp07jQ8//NDw9fU13nrrrRo/37MRNlEnSSp3mTt3rqtPbm6uce+99xohISGGr6+vcd111xlHjx4ttZ+EhARj2LBhho+Pj9G4cWPjoYceMgoLC2v4bNAQnR02uV5Rm/z3v/81OnfubNjtdqN9+/bG22+/XWq90+k0Hn/8cSM8PNyw2+3GFVdcYezdu7dUnxMnThhjx441/P39jcDAQGPy5MlGZmZmTZ4GGoiMjAzj/vvvN5o3b254e3sbrVq1Mv7617+WmgaCaxZm+fbbb8v9nXXixImGYbjv2ty+fbvxu9/9zrDb7UZUVJTx3HPP1dQpnpPFMAzDnDFVAAAAAEB9xTObAAAAAAC3I2wCAAAAANyOsAkAAAAAcDvCJgAAAADA7QibAAAAAAC3I2wCAAAAANyOsAkAAAAAcDvCJgAAAADA7QibAAAAAAC3I2wCAOBGx44d0z333KPmzZvLbrcrIiJCQ4cO1erVqyVJFotFS5YsMbdIAABqgIfZBQAAUJ+MGTNGBQUFevfdd9WqVSulpKRo5cqVOnHihNmlAQBQoxjZBADATdLS0vTDDz/o+eef1+WXX66YmBj17dtX06dP1x/+8Ae1aNFCknTdddfJYrG4PkvSZ599pp49e8rb21utWrXSk08+qaKiItd6i8WiWbNmadiwYfLx8VGrVq30ySefuNYXFBRo2rRpioyMlLe3t2JiYjRz5syaOnUAAMogbAIA4Cb+/v7y9/fXkiVLlJ+fX2b9xo0bJUlz587V0aNHXZ9/+OEHTZgwQffff79+/vlnvfXWW4qLi9MzzzxTavvHH39cY8aM0fbt2zVu3DjdfPPN2r17tyTp1Vdf1eeff66PP/5Ye/fu1fz580uFWQAAaprFMAzD7CIAAKgvPv30U02ZMkW5ubnq2bOnBg8erJtvvlldu3aVVDxCuXjxYo0aNcq1zZAhQ3TFFVdo+vTprrZ58+bpkUceUVJSkmu7u+++W7NmzXL16d+/v3r27Kk333xT9913n3bt2qWvv/5aFoulZk4WAIBzYGQTAAA3GjNmjJKSkvT555/r6quv1qpVq9SzZ0/FxcVVuM327dv11FNPuUZG/f39NWXKFB09elQ5OTmufrGxsaW2i42NdY1sTpo0Sdu2bVO7du1033336auvvqqW8wMAoLIImwAAuJm3t7euvPJKPf7441qzZo0mTZqkv/3tbxX2z8rK0pNPPqlt27a5lh07dig+Pl7e3t6VOmbPnj114MABPf3008rNzdWNN96o66+/3l2nBADABSNsAgBQzTp27Kjs7GxJkqenpxwOR6n1PXv21N69e9WmTZsyi9X621/V69atK7XdunXr1KFDB9fnwMBA3XTTTZozZ44++ugjffrppzp58mQ1nhkAABVj6hMAANzkxIkTuuGGG3Tbbbepa9euCggI0KZNm/TCCy9o5MiRkqQWLVpo5cqVGjhwoOx2u0JCQjRjxgxde+21at68ua6//npZrVZt375dO3fu1N///nfX/hcuXKjevXvrd7/7nebPn68NGzbo3//+tyTpn//8pyIjI9WjRw9ZrVYtXLhQERERCg4ONuNHAQAAYRMAAHfx9/dXv3799K9//Uu//vqrCgsLFR0drSlTpugvf/mLJOmll17Sgw8+qDlz5igqKkoJCQkaOnSoli5dqqeeekrPP/+8PD091b59e91xxx2l9v/kk0/qww8/1L333qvIyEh98MEH6tixoyQpICBAL7zwguLj42Wz2dSnTx998cUXpUZGAQCoSbyNFgCAOqC8t9gCAFCb8c+dAAAAAAC3I2wCAAAAANyOZzYBAKgDeOoFAFDXMLIJAAAAAHA7wiYAAAAAwO0ImwAAAAAAtyNsAgAAAADcjrAJAAAAAHA7wiYAAAAAwO0ImwAAAAAAtyNsAgAAAADc7v8BGCUh3mPEKZIAAAAASUVORK5CYII=",
      "text/plain": [
       "<Figure size 1100x500 with 1 Axes>"
      ]
     },
     "metadata": {},
     "output_type": "display_data"
    }
   ],
   "source": [
    "logs = trainer_F.state.log_history\n",
    "\n",
    "steps = [log[\"step\"] for log in logs if \"loss\" in log]\n",
    "losses = [log[\"loss\"] for log in logs if \"loss\" in log]\n",
    "\n",
    "plt.figure(figsize=(11, 5))\n",
    "\n",
    "plt.plot(steps, losses, label=\"Training Loss\")\n",
    "plt.xlabel(\"Steps\")\n",
    "plt.ylabel(\"Loss\")\n",
    "plt.title(\"Training Loss per Steps\")\n",
    "plt.legend()\n",
    "plt.show()"
   ]
  },
  {
   "cell_type": "markdown",
   "id": "337363a8-a818-4130-bb01-9ee49e7c7ebc",
   "metadata": {},
   "source": [
    "# -------------------------------------------------------------------------------------------"
   ]
  },
  {
   "cell_type": "markdown",
   "id": "c5619fc5-b34e-4ca1-9adc-13956672e33b",
   "metadata": {},
   "source": [
    "## Generation"
   ]
  },
  {
   "cell_type": "code",
   "execution_count": 30,
   "id": "7b2b0143-e188-4574-aa4c-cd3e630cce40",
   "metadata": {},
   "outputs": [
    {
     "data": {
      "text/plain": [
       "27"
      ]
     },
     "execution_count": 30,
     "metadata": {},
     "output_type": "execute_result"
    }
   ],
   "source": [
    "samples = len(test_set['Content'])\n",
    "samples"
   ]
  },
  {
   "cell_type": "code",
   "execution_count": 31,
   "id": "dfb0a7c1-9a69-4096-87e4-316f2f024821",
   "metadata": {},
   "outputs": [],
   "source": [
    "generation_params = [{\"top_k\": 50, \"top_p\": 0.95}, {\"top_k\": 50, \"top_p\": 0.55}, {\"top_k\": 25, \"top_p\": 0.95}]"
   ]
  },
  {
   "cell_type": "code",
   "execution_count": 32,
   "id": "13984213-69cc-424d-ae6b-6bd93cb1eaa3",
   "metadata": {},
   "outputs": [],
   "source": [
    "def generate_poem(model, tokenizer, text, max_length=100, top_k=50, top_p=0.95):\n",
    "    input_ids = tokenizer.encode(text, return_tensors=\"pt\").to('cuda:0')\n",
    "    \n",
    "    output = model.generate(input_ids, max_length=max_length, num_return_sequences=1, do_sample=True, top_k=top_k, top_p=top_p, temperature=1)\n",
    "    return tokenizer.decode(output[0], skip_special_tokens=True)"
   ]
  },
  {
   "cell_type": "code",
   "execution_count": 33,
   "id": "2ed041e0-b16e-4f1c-bcec-51841b505fbe",
   "metadata": {},
   "outputs": [],
   "source": [
    "def generate_poems(model, tokenizer, test_set, max_length=100, top_k=50, top_p=0.95):\n",
    "    p = {}\n",
    "    \n",
    "    for i in range(samples):\n",
    "        p[test_set['Content'][i]] = []\n",
    "        for params in generation_params:\n",
    "            for j in range(4):\n",
    "               p[test_set['Content'][i]].append(generate_poem(model, tokenizer, test_set['Content'][i][0:35], 100, **params))\n",
    "\n",
    "    return p"
   ]
  },
  {
   "cell_type": "code",
   "execution_count": 34,
   "id": "fc0b938f-5d03-4cfb-904f-5d1a07c554a2",
   "metadata": {
    "scrolled": true
   },
   "outputs": [
    {
     "name": "stderr",
     "output_type": "stream",
    }
   ],
   "source": [
    "model_gen = generate_poems(model, tokenizer, test_set)\n",
    "\n",
    "model_F_gen = generate_poems(model_F, tokenizer_F, test_set)"
   ]
  },
  {
   "cell_type": "markdown",
   "id": "ae88c547-dc0d-4d13-8933-73fe64583aed",
   "metadata": {},
   "source": [
    "# -------------------------------------------------------------------------------------------"
   ]
  },
  {
   "cell_type": "markdown",
   "id": "9b996e1e-1a6a-4e17-9d74-e483b11eebfc",
   "metadata": {},
   "source": [
    "## Evaluation"
   ]
  },
  {
   "cell_type": "markdown",
   "id": "d1bc3129-fea9-406b-bda6-459b6fc92dc7",
   "metadata": {},
   "source": [
    "### Average BLEU score across the test set"
   ]
  },
  {
   "cell_type": "code",
   "execution_count": 37,
   "id": "7909272b-55b9-4722-a942-ebb28e2f69ce",
   "metadata": {},
   "outputs": [],
   "source": [
    "def calculate_BLEU(dictionary):\n",
    "    bleu_score = 0\n",
    "    for key, value in dictionary.items():\n",
    "        #main = nltk.word_tokenize(key)\n",
    "        for i in range(len(value)):\n",
    "            #gen = nltk.word_tokenize(value[i])\n",
    "            bleu_score += sentence_bleu([key], value[i])\n",
    "    \n",
    "    return bleu_score/len(dictionary)"
   ]
  },
  {
   "cell_type": "code",
   "execution_count": 38,
   "id": "d07e8a75-37aa-4027-8814-a1027add00c4",
   "metadata": {},
   "outputs": [
    {
     "data": {
      "text/plain": [
       "1.9541700018600094"
      ]
     },
     "execution_count": 38,
     "metadata": {},
     "output_type": "execute_result"
    }
   ],
   "source": [
    "model_gen_avg_bleu_score = calculate_BLEU(model_gen)\n",
    "model_gen_avg_bleu_score"
   ]
  },
  {
   "cell_type": "code",
   "execution_count": 39,
   "id": "cf6e6243-2781-4b72-a5c6-aa531162728a",
   "metadata": {},
   "outputs": [
    {
     "data": {
      "text/plain": [
       "1.925429539901044"
      ]
     },
     "execution_count": 39,
     "metadata": {},
     "output_type": "execute_result"
    }
   ],
   "source": [
    "model_F_gen_avg_bleu_score = calculate_BLEU(model_F_gen)\n",
    "model_F_gen_avg_bleu_score"
   ]
  },
  {
   "cell_type": "markdown",
   "id": "e4eb0fe4-24bc-4384-ba58-b25279ad3288",
   "metadata": {},
   "source": [
    "### ROUGE score across the test set"
   ]
  },
  {
   "cell_type": "code",
   "execution_count": 40,
   "id": "54df3a50-8c8e-44e5-a989-f85b0702f2d8",
   "metadata": {},
   "outputs": [],
   "source": [
    "def calculate_ROUGE(dictionary):\n",
    "    rouge_scores = []\n",
    "    scorer = rouge_scorer.RougeScorer(['rouge1', 'rouge2', 'rougeL'], use_stemmer=True)\n",
    "\n",
    "    for key, value in dictionary.items():\n",
    "        for i in range(len(value)):\n",
    "            rouge_scores.append(scorer.score(key, value[i]))\n",
    "        \n",
    "    return rouge_scores"
   ]
  },
  {
   "cell_type": "code",
   "execution_count": 41,
   "id": "55b6aef2-704c-4edc-9d53-7efe644b9e4b",
   "metadata": {},
   "outputs": [],
   "source": [
    "model_rouge = calculate_ROUGE(model_gen)\n",
    "model_F_rouge = calculate_ROUGE(model_F_gen)"
   ]
  },
  {
   "cell_type": "markdown",
   "id": "71ffafe2-4423-49ab-a0b2-0a34c503f49f",
   "metadata": {},
   "source": [
    "#### Average ROUGE scores"
   ]
  },
  {
   "cell_type": "code",
   "execution_count": 42,
   "id": "3be50773-fc44-47fb-803f-43825dbef6c9",
   "metadata": {},
   "outputs": [
    {
     "data": {
      "text/plain": [
       "Score(precision=0.4626865671641791, recall=0.19375, fmeasure=0.27312775330396477)"
      ]
     },
     "execution_count": 42,
     "metadata": {},
     "output_type": "execute_result"
    }
   ],
   "source": [
    "model_rouge[0]['rouge1']"
   ]
  },
  {
   "cell_type": "code",
   "execution_count": 43,
   "id": "f2d1dbde-8b0b-40cb-aa17-6b79417165cd",
   "metadata": {},
   "outputs": [],
   "source": [
    "def avg_score(dictionary, score_cat, score_name):\n",
    "    score = 0\n",
    "    j = 0\n",
    "    \n",
    "    if score_name == 'precision':\n",
    "        j = 0\n",
    "    elif score_name == 'recall':\n",
    "        j = 1\n",
    "    elif score_name == 'f1':\n",
    "        j = 2\n",
    "\n",
    "    for i in range(len(dictionary)):\n",
    "        score += dictionary[i][score_cat][j]\n",
    "\n",
    "    return score/len(dictionary)"
   ]
  },
  {
   "cell_type": "code",
   "execution_count": 46,
   "id": "529c1db7-accc-40d4-bafd-f66de2e7cbc5",
   "metadata": {},
   "outputs": [
    {
     "data": {
      "text/plain": [
       "0.5179626614753151"
      ]
     },
     "execution_count": 46,
     "metadata": {},
     "output_type": "execute_result"
    }
   ],
   "source": [
    "avg_score(model_F_rouge, 'rouge1', 'precision')"
   ]
  },
  {
   "cell_type": "markdown",
   "id": "7b452ab1-6bb8-428a-845b-6a57acc7b79b",
   "metadata": {},
   "source": [
    "# -------------------------------------------------------------------------------------------"
   ]
  },
  {
   "cell_type": "markdown",
   "id": "f99fbcd6-68fa-4ba9-985b-42f9f26a770e",
   "metadata": {},
   "source": [
    "## GPT-2 Medium Fine Tunning"
   ]
  },
  {
   "cell_type": "markdown",
   "id": "9ebe6683-c878-4cc2-a348-24c8152c3d2f",
   "metadata": {},
   "source": [
    "#### GPT-2 Medium Fine Tunning (Last Four Layers unfrozen)"
   ]
  },
  {
   "cell_type": "code",
   "execution_count": 45,
   "id": "e9d3347c-2746-49ae-8fd5-5b4a19ad362c",
   "metadata": {},
   "outputs": [
    {
     "data": {
      "text/plain": [
       "GPT2LMHeadModel(\n",
       "  (transformer): GPT2Model(\n",
       "    (wte): Embedding(50257, 1024)\n",
       "    (wpe): Embedding(1024, 1024)\n",
       "    (drop): Dropout(p=0.1, inplace=False)\n",
       "    (h): ModuleList(\n",
       "      (0-23): 24 x GPT2Block(\n",
       "        (ln_1): LayerNorm((1024,), eps=1e-05, elementwise_affine=True)\n",
       "        (attn): GPT2Attention(\n",
       "          (c_attn): Conv1D()\n",
       "          (c_proj): Conv1D()\n",
       "          (attn_dropout): Dropout(p=0.1, inplace=False)\n",
       "          (resid_dropout): Dropout(p=0.1, inplace=False)\n",
       "        )\n",
       "        (ln_2): LayerNorm((1024,), eps=1e-05, elementwise_affine=True)\n",
       "        (mlp): GPT2MLP(\n",
       "          (c_fc): Conv1D()\n",
       "          (c_proj): Conv1D()\n",
       "          (act): NewGELUActivation()\n",
       "          (dropout): Dropout(p=0.1, inplace=False)\n",
       "        )\n",
       "      )\n",
       "    )\n",
       "    (ln_f): LayerNorm((1024,), eps=1e-05, elementwise_affine=True)\n",
       "  )\n",
       "  (lm_head): Linear(in_features=1024, out_features=50257, bias=False)\n",
       ")"
      ]
     },
     "execution_count": 45,
     "metadata": {},
     "output_type": "execute_result"
    }
   ],
   "source": [
    "output_dir = \"GPT2Medium_Frozen\"\n",
    "\n",
    "tokenizer2_F = GPT2Tokenizer.from_pretrained(\"gpt2-medium\")\n",
    "model2_F = GPT2LMHeadModel.from_pretrained(\"gpt2-medium\")\n",
    "\n",
    "tokenizer2_F.pad_token = tokenizer2_F.eos_token\n",
    "assert tokenizer2_F.pad_token == tokenizer2_F.eos_token\n",
    "\n",
    "data_collator2_F = DataCollatorForLanguageModeling(tokenizer=tokenizer2_F, mlm=False)\n",
    "\n",
    "model2_F.to('cuda:0')"
   ]
  },
  {
   "cell_type": "markdown",
   "id": "39550474-3d58-4274-8739-1136a3456a49",
   "metadata": {},
   "source": [
    "#### GPT-2 Medium Number of Layers"
   ]
  },
  {
   "cell_type": "code",
   "execution_count": 47,
   "id": "0c1c5603-98ce-4b55-a774-a5f9b5efb207",
   "metadata": {},
   "outputs": [
    {
     "data": {
      "text/plain": [
       "24"
      ]
     },
     "execution_count": 47,
     "metadata": {},
     "output_type": "execute_result"
    }
   ],
   "source": [
    "model2_F.config.n_layer"
   ]
  },
  {
   "cell_type": "code",
   "execution_count": 48,
   "id": "898d0758-0627-476d-ae0d-cdd50c4e173a",
   "metadata": {},
   "outputs": [
    {
     "name": "stderr",
     "output_type": "stream",
     "text": [
      "Map: 100%|█████████████████████████████████████████████████████████████████████| 80/80 [00:00<00:00, 120.85 examples/s]\n",
      "Map: 100%|██████████████████████████████████████████████████████████████████████| 27/27 [00:00<00:00, 79.41 examples/s]\n"
     ]
    }
   ],
   "source": [
    "def tokenize_data(data):\n",
    "    return tokenizer2_F(data['Content'], truncation=True, max_length=400)\n",
    "\n",
    "tokenized_train_set = train_set.map(tokenize_data, batched=True)\n",
    "tokenized_test_set = test_set.map(tokenize_data, batched=True)"
   ]
  },
  {
   "cell_type": "markdown",
   "id": "f73e3eda-b9a0-494c-80bc-f544db3133f6",
   "metadata": {},
   "source": [
    "#### Freezing the last 2 layers"
   ]
  },
  {
   "cell_type": "code",
   "execution_count": 49,
   "id": "46149403-c6c8-4af6-b9d5-009585ea2658",
   "metadata": {},
   "outputs": [],
   "source": [
    "for param in model2_F.parameters():\n",
    "    param.requires_grad = False\n",
    "    \n",
    "for i in range(-4, 0):\n",
    "    for param in model2_F.transformer.h[i].parameters():\n",
    "        param.requires_grad = True"
   ]
  },
  {
   "cell_type": "code",
   "execution_count": 50,
   "id": "5127edba-5a78-45f0-a1c4-adaf60876f47",
   "metadata": {},
   "outputs": [
    {
     "name": "stderr",
     "output_type": "stream",
     "text": [
      "C:\\Users\\karim\\anaconda3\\envs\\my_env\\lib\\site-packages\\accelerate\\accelerator.py:436: FutureWarning: Passing the following arguments to `Accelerator` is deprecated and will be removed in version 1.0 of Accelerate: dict_keys(['dispatch_batches', 'split_batches', 'even_batches', 'use_seedable_sampler']). Please pass an `accelerate.DataLoaderConfiguration` instead: \n",
      "dataloader_config = DataLoaderConfiguration(dispatch_batches=None, split_batches=False, even_batches=True, use_seedable_sampler=True)\n",
      "  warnings.warn(\n"
     ]
    },
    {
     "data": {
      "text/html": [
       "\n",
       "    <div>\n",
       "      \n",
       "      <progress value='1000' max='1000' style='width:300px; height:20px; vertical-align: middle;'></progress>\n",
       "      [1000/1000 1:08:38, Epoch 50/50]\n",
       "    </div>\n",
       "    <table border=\"1\" class=\"dataframe\">\n",
       "  <thead>\n",
       " <tr style=\"text-align: left;\">\n",
       "      <th>Step</th>\n",
       "      <th>Training Loss</th>\n",
       "    </tr>\n",
       "  </thead>\n",
       "  <tbody>\n",
       "    <tr>\n",
       "      <td>100</td>\n",
       "      <td>2.833600</td>\n",
       "    </tr>\n",
       "    <tr>\n",
       "      <td>200</td>\n",
       "      <td>0.651400</td>\n",
       "    </tr>\n",
       "    <tr>\n",
       "      <td>300</td>\n",
       "      <td>0.285600</td>\n",
       "    </tr>\n",
       "    <tr>\n",
       "      <td>400</td>\n",
       "      <td>0.161900</td>\n",
       "    </tr>\n",
       "    <tr>\n",
       "      <td>500</td>\n",
       "      <td>0.123600</td>\n",
       "    </tr>\n",
       "    <tr>\n",
       "      <td>600</td>\n",
       "      <td>0.081900</td>\n",
       "    </tr>\n",
       "    <tr>\n",
       "      <td>700</td>\n",
       "      <td>0.068900</td>\n",
       "    </tr>\n",
       "    <tr>\n",
       "      <td>800</td>\n",
       "      <td>0.057900</td>\n",
       "    </tr>\n",
       "    <tr>\n",
       "      <td>900</td>\n",
       "      <td>0.051500</td>\n",
       "    </tr>\n",
       "    <tr>\n",
       "      <td>1000</td>\n",
       "      <td>0.047300</td>\n",
       "    </tr>\n",
       "  </tbody>\n",
       "</table><p>"
      ],
      "text/plain": [
       "<IPython.core.display.HTML object>"
      ]
     },
     "metadata": {},
     "output_type": "display_data"
    },
    {
     "data": {
      "text/plain": [
       "('GPT2Medium_Frozen\\\\tokenizer_config.json',\n",
       " 'GPT2Medium_Frozen\\\\special_tokens_map.json',\n",
       " 'GPT2Medium_Frozen\\\\vocab.json',\n",
       " 'GPT2Medium_Frozen\\\\merges.txt',\n",
       " 'GPT2Medium_Frozen\\\\added_tokens.json')"
      ]
     },
     "execution_count": 50,
     "metadata": {},
     "output_type": "execute_result"
    }
   ],
   "source": [
    "trainer2_F = Trainer(model=model2_F, args=set_args(50, 0.001, 0.9, 0.999), train_dataset=tokenized_train_set, data_collator=data_collator2_F)\n",
    "\n",
    "trainer2_F.train()\n",
    "\n",
    "model2_F.save_pretrained(output_dir)\n",
    "tokenizer2_F.save_pretrained(output_dir)"
   ]
  },
  {
   "cell_type": "markdown",
   "id": "da00db1a-b1ad-41db-859c-f27538e22183",
   "metadata": {},
   "source": [
    "#### Training Learning Curve"
   ]
  },
  {
   "cell_type": "code",
   "execution_count": 51,
   "id": "564b29be-ad0f-430d-a0ca-98a701f2fad6",
   "metadata": {},
   "outputs": [
    {
     "data": {
      "image/png": "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",
      "text/plain": [
       "<Figure size 1100x500 with 1 Axes>"
      ]
     },
     "metadata": {},
     "output_type": "display_data"
    }
   ],
   "source": [
    "logs = trainer2_F.state.log_history\n",
    "\n",
    "steps = [log[\"step\"] for log in logs if \"loss\" in log]\n",
    "losses = [log[\"loss\"] for log in logs if \"loss\" in log]\n",
    "\n",
    "plt.figure(figsize=(11, 5))\n",
    "\n",
    "plt.plot(steps, losses, label=\"Training Loss\")\n",
    "plt.xlabel(\"Steps\")\n",
    "plt.ylabel(\"Loss\")\n",
    "plt.title(\"Training Loss per Steps\")\n",
    "plt.legend()\n",
    "plt.show()"
   ]
  },
  {
   "cell_type": "markdown",
   "id": "72c6f915-52cc-4760-a66b-9483107cf5a7",
   "metadata": {},
   "source": [
    "# -------------------------------------------------------------------------------------------"
   ]
  },
  {
   "cell_type": "markdown",
   "id": "68cd969a-b134-42f3-a085-d01431467a2d",
   "metadata": {},
   "source": [
    "## Generation"
   ]
  },
  {
   "cell_type": "code",
   "execution_count": 52,
   "id": "2aab0191-7217-44da-8e2d-da0da9456a68",
   "metadata": {
    "scrolled": true
   },
   "outputs": [
    {
     "name": "stderr",
     "output_type": "stream",

    }
   ],
   "source": [
    "model2_F_gen = generate_poems(model2_F, tokenizer_F, test_set)"
   ]
  },
  {
   "cell_type": "markdown",
   "id": "960290d4-8d5f-4747-8767-830fced0df45",
   "metadata": {},
   "source": [
    "# -------------------------------------------------------------------------------------------"
   ]
  },
  {
   "cell_type": "markdown",
   "id": "b7c073c9-d984-47c8-9e3a-c8a47ecba13c",
   "metadata": {},
   "source": [
    "## Evaluation"
   ]
  },
  {
   "cell_type": "markdown",
   "id": "96e3dec9-465c-47ed-9fbb-6fb3fb542ffc",
   "metadata": {},
   "source": [
    "#### Average BLEU Score"
   ]
  },
  {
   "cell_type": "code",
   "execution_count": 54,
   "id": "6cf1fa35-738a-4138-b553-42c0bafb3fb7",
   "metadata": {},
   "outputs": [
    {
     "data": {
      "text/plain": [
       "1.8065295220835869"
      ]
     },
     "execution_count": 54,
     "metadata": {},
     "output_type": "execute_result"
    }
   ],
   "source": [
    "model2_F_gen_avg_bleu_score = calculate_BLEU(model2_F_gen)\n",
    "model2_F_gen_avg_bleu_score"
   ]
  },
  {
   "cell_type": "markdown",
   "id": "02cb1c37-79b2-4679-9677-fee51d9c15f7",
   "metadata": {},
   "source": [
    "#### Rouge Score"
   ]
  },
  {
   "cell_type": "code",
   "execution_count": 55,
   "id": "f3188182-6b38-404e-8509-22e70086e65a",
   "metadata": {},
   "outputs": [],
   "source": [
    "model2_F_rouge = calculate_ROUGE(model2_F_gen)"
   ]
  },
  {
   "cell_type": "code",
   "execution_count": 56,
   "id": "d1e3c18b-ba95-41fd-b387-17a190a0b457",
   "metadata": {},
   "outputs": [
    {
     "data": {
      "text/plain": [
       "0.508374346913515"
      ]
     },
     "execution_count": 56,
     "metadata": {},
     "output_type": "execute_result"
    }
   ],
   "source": [
    "avg_score(model2_F_rouge, 'rouge1', 'precision')"
   ]
  },
  {
   "cell_type": "markdown",
   "id": "6dab1f58-795a-49ab-b011-2e85eab650a0",
   "metadata": {},
   "source": [
    "# -------------------------------------------------------------------------------------------"
   ]
  },
  {
   "cell_type": "markdown",
   "id": "69f1fc8e-c431-402a-a3f9-5940c6ca93ac",
   "metadata": {},
   "source": [
    "## Final Comparison"
   ]
  },
  {
   "cell_type": "code",
   "execution_count": 57,
   "id": "f3225e0c-2f0c-4bdf-beac-5b0ed2b5f41f",
   "metadata": {},
   "outputs": [
    {
     "data": {
      "image/png": "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",
      "text/plain": [
       "<Figure size 1400x800 with 1 Axes>"
      ]
     },
     "metadata": {},
     "output_type": "display_data"
    }
   ],
   "source": [
    "Scores = ['Average BLEU score', 'Average Precision', 'Average Recall', 'Average F1 score']\n",
    "\n",
    "Small_GPT_2_Unfrozen = [model_gen_avg_bleu_score/100, avg_score(model_rouge, 'rougeL', 'precision'), \\\n",
    "                        avg_score(model_rouge, 'rougeL', 'recall'), avg_score(model_rouge, 'rougeL', 'f1')]\n",
    "\n",
    "Small_GPT_2_Frozen = [model_F_gen_avg_bleu_score/100, avg_score(model_F_rouge, 'rougeL', 'precision'), \\\n",
    "                      avg_score(model_F_rouge, 'rougeL', 'recall'), avg_score(model_F_rouge, 'rougeL', 'f1')]\n",
    "\n",
    "Medium_GPT_2_Frozen = [model2_F_gen_avg_bleu_score/100, avg_score(model2_F_rouge, 'rougeL', 'precision'), \\\n",
    "                       avg_score(model2_F_rouge, 'rougeL', 'recall'), avg_score(model2_F_rouge, 'rougeL', 'f1')]\n",
    "\n",
    "\n",
    "x = np.arange(len(Scores)) \n",
    "width = 0.2\n",
    "\n",
    "fig, ax = plt.subplots(figsize=(14,8))\n",
    "bar1 = ax.bar(x - width, Small_GPT_2_Unfrozen, width, label='Small GPT-2 Unfrozen')\n",
    "bar2 = ax.bar(x, Small_GPT_2_Frozen, width, label='Small GPT-2 Frozen')\n",
    "bar3 = ax.bar(x + width, Medium_GPT_2_Frozen, width, label='Medium GPT-2 Frozen')\n",
    "\n",
    "ax.set_xlabel('Scores')\n",
    "ax.set_ylabel('Values')\n",
    "ax.set_title('Test set Comparison')\n",
    "ax.set_xticks(x)  \n",
    "ax.set_xticklabels(Scores)\n",
    "ax.legend()  \n",
    "\n",
    "plt.show()"
   ]
  },
  {
   "cell_type": "code",
   "execution_count": 58,
   "id": "a71da477-9b60-4b03-afa3-9e2a32785594",
   "metadata": {},
   "outputs": [],
   "source": [
    "prompt = 'The sun is melting the snow'"
   ]
  },
  {
   "cell_type": "markdown",
   "id": "c19f0d80-5fad-4c1f-9b8a-8714418df581",
   "metadata": {},
   "source": [
    "### A generated poem by GPT-2 Small with all layers unfrozen"
   ]
  },
  {
   "cell_type": "code",
   "execution_count": 59,
   "id": "b8f55881-f9a2-41c4-a325-7e282fb72b59",
   "metadata": {},
   "outputs": [
    {
     "name": "stderr",
     "output_type": "stream",
     "text": [
      "The attention mask and the pad token id were not set. As a consequence, you may observe unexpected behavior. Please pass your input's `attention_mask` to obtain reliable results.\n",
      "Setting `pad_token_id` to `eos_token_id`:50256 for open-end generation.\n"
     ]
    },
    {
     "name": "stdout",
     "output_type": "stream",
     "text": [
      "The sun is melting the snow\n",
      "The farmhouse will be the name of the Miller,\n",
      "And all winter long\n",
      "Of the Douglas found new,\n",
      "And that its weight suggested gold\n",
      "And tugged it from his first too certain hold,\n",
      "He noticed nothing in it to remark.\n",
      "He was not used to handling such a thing\n",
      "Before he came to the land of Spain,\n",
      "Where\n"
     ]
    }
   ],
   "source": [
    "print(generate_poem(model, tokenizer, prompt, 80))"
   ]
  },
  {
   "cell_type": "markdown",
   "id": "1ab6ec10-9e76-4556-9500-b74a307d101c",
   "metadata": {},
   "source": [
    "### A generated poem by GPT-2 Small with final 2 layers unfrozen"
   ]
  },
  {
   "cell_type": "code",
   "execution_count": 60,
   "id": "931d68bf-ac60-40e8-a491-644285c5004d",
   "metadata": {},
   "outputs": [
    {
     "name": "stderr",
     "output_type": "stream",
     "text": [
      "The attention mask and the pad token id were not set. As a consequence, you may observe unexpected behavior. Please pass your input's `attention_mask` to obtain reliable results.\n",
      "Setting `pad_token_id` to `eos_token_id`:50256 for open-end generation.\n"
     ]
    },
    {
     "name": "stdout",
     "output_type": "stream",
     "text": [
      "The sun is melting the snow;\n",
      "I want to raise my voice and say something\n",
      "JUST WATCHED Indigenous peoples: Don't be misled Replay thank you)\n",
      "The sun in the new-cut narrow stall at the rocks were.\n",
      "I want to lift the puck\n",
      "When I was a girl, we dwelt in the new cow\n",
      "In the new valley of Washington,\n",
      "That was our love\n"
     ]
    }
   ],
   "source": [
    "print(generate_poem(model_F, tokenizer_F, prompt, 80))"
   ]
  },
  {
   "cell_type": "markdown",
   "id": "cd10f055-32d6-4bc7-8c45-b21069757d9b",
   "metadata": {},
   "source": [
    "### A generated poem by GPT-2 Medium with final 4 layers unfrozen"
   ]
  },
  {
   "cell_type": "code",
   "execution_count": 61,
   "id": "d01d8e9d-6421-4c33-bf99-71c311da2510",
   "metadata": {},
   "outputs": [
    {
     "name": "stderr",
     "output_type": "stream",
     "text": [
      "The attention mask and the pad token id were not set. As a consequence, you may observe unexpected behavior. Please pass your input's `attention_mask` to obtain reliable results.\n",
      "Setting `pad_token_id` to `eos_token_id`:50256 for open-end generation.\n"
     ]
    },
    {
     "name": "stdout",
     "output_type": "stream",
     "text": [
      "The sun is melting the snow\n",
      "As of this writing, the temperatures in the lower 48 states have dropped to -2C, while the highest temperatures are -25C in the mountain range.\n",
      "I'm guessing the lower 48 states will see a gradual cooling of the upper 48 states, similar to what we are seeing in the lower 48 states, and the snow and snow and then some.\n",
      "\n"
     ]
    }
   ],
   "source": [
    "print(generate_poem(model2_F, tokenizer2_F, prompt, 80))"
   ]
  },
  {
   "cell_type": "markdown",
   "id": "659e4ba1-c6c3-4cbe-9787-e1e16f71a363",
   "metadata": {},
   "source": [
    "## Detailed analysis & project limitations are documented in the final report."
   ]
  }
 ],
 "metadata": {
  "kernelspec": {
   "display_name": "Python 3 (ipykernel)",
   "language": "python",
   "name": "python3"
  },
  "language_info": {
   "codemirror_mode": {
    "name": "ipython",
    "version": 3
   },
   "file_extension": ".py",
   "mimetype": "text/x-python",
   "name": "python",
   "nbconvert_exporter": "python",
   "pygments_lexer": "ipython3",
   "version": "3.9.19"
  }
 },
 "nbformat": 4,
 "nbformat_minor": 5
}
